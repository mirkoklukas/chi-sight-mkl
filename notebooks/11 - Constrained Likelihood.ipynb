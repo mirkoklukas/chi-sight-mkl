{
 "cells": [
  {
   "cell_type": "markdown",
   "metadata": {},
   "source": [
    "# Constrained Likelihood"
   ]
  },
  {
   "cell_type": "code",
   "execution_count": 1,
   "metadata": {},
   "outputs": [],
   "source": [
    "%load_ext autoreload\n",
    "%autoreload 2"
   ]
  },
  {
   "cell_type": "code",
   "execution_count": 2,
   "metadata": {},
   "outputs": [],
   "source": [
    "#|default_exp likelihood"
   ]
  },
  {
   "cell_type": "code",
   "execution_count": 3,
   "metadata": {},
   "outputs": [],
   "source": [
    "#|export\n",
    "import jax\n",
    "import jax.numpy as jnp\n",
    "from jax import (jit, vmap)\n",
    "import genjax\n",
    "from genjax import gen, choice_map, vector_choice_map\n",
    "import matplotlib.pyplot as plt\n",
    "import numpy as np\n",
    "import bayes3d\n",
    "from xsight.utils import *\n",
    "\n",
    "console = genjax.pretty(show_locals=False)\n",
    "key     = jax.random.PRNGKey(0)"
   ]
  },
  {
   "cell_type": "code",
   "execution_count": 4,
   "metadata": {},
   "outputs": [],
   "source": [
    "#|export\n",
    "import genjax._src.generative_functions.distributions.tensorflow_probability as gentfp\n",
    "import tensorflow_probability.substrates.jax as tfp\n",
    "tfd = tfp.distributions\n",
    "\n",
    "uniform = genjax.tfp_uniform\n",
    "\n",
    "truncnormal = gentfp.TFPDistribution(\n",
    "    lambda mu, sig, low, high: tfd.TruncatedNormal(mu, sig, low, high));\n",
    "\n",
    "normal = gentfp.TFPDistribution(\n",
    "    lambda mu, sig: tfd.Normal(mu, sig));\n",
    "\n",
    "diagnormal = gentfp.TFPDistribution(\n",
    "    lambda mus, sigs: tfd.MultivariateNormalDiag(mus, sigs));\n",
    "\n",
    "\n",
    "mixture_of_diagnormals = gentfp.TFPDistribution(\n",
    "    lambda ws, mus, sig: tfd.MixtureSameFamily(\n",
    "        tfd.Categorical(ws),\n",
    "        tfd.MultivariateNormalDiag(mus, sig * jnp.ones_like(mus))))\n",
    "\n",
    "mixture_of_normals = gentfp.TFPDistribution(\n",
    "    lambda ws, mus, sig: tfd.MixtureSameFamily(\n",
    "        tfd.Categorical(ws),\n",
    "        tfd.Normal(mus, sig * jnp.ones_like(mus))))\n",
    "\n",
    "\n",
    "mixture_of_truncnormals = gentfp.TFPDistribution(\n",
    "    lambda ws, mus, sigs, lows, highs: tfd.MixtureSameFamily(\n",
    "        tfd.Categorical(ws),\n",
    "        tfd.TruncatedNormal(mus, sigs, lows, highs)))"
   ]
  },
  {
   "cell_type": "code",
   "execution_count": 5,
   "metadata": {},
   "outputs": [],
   "source": [
    "#|export\n",
    "from scipy.stats import truncnorm as scipy_truncnormal\n",
    "\n",
    "normal_logpdf    = jax.scipy.stats.norm.logpdf\n",
    "truncnorm_logpdf = jax.scipy.stats.truncnorm.logpdf\n",
    "truncnorm_pdf    = jax.scipy.stats.truncnorm.pdf\n"
   ]
  },
  {
   "cell_type": "code",
   "execution_count": 6,
   "metadata": {},
   "outputs": [],
   "source": [
    "# This function is adapted from `bayes3d.likelihood.gausssian_mixture_vectorize`\n",
    "# which computes the pixel-wise logprobs in the 3dp3 likelihood.\n",
    "def threeDP3_logpdf(x, ys, variance, outlier, vol):\n",
    "    m     = len(ys)\n",
    "    diffs = x - ys\n",
    "    logps = jax.scipy.special.logsumexp( \n",
    "        jax.scipy.stats.norm.logpdf(\n",
    "            diffs,\n",
    "            loc   = 0.0,\n",
    "            scale = jnp.sqrt(variance)\n",
    "        ).sum(-1) - jnp.log(m)\n",
    "    )\n",
    "    return jnp.logaddexp(jnp.log(1.0 - outlier) + logps, jnp.log(outlier) - jnp.log(vol))"
   ]
  },
  {
   "cell_type": "markdown",
   "metadata": {},
   "source": [
    "## 1D Mixture Components"
   ]
  },
  {
   "cell_type": "code",
   "execution_count": 7,
   "metadata": {},
   "outputs": [],
   "source": [
    "#|export\n",
    "\n",
    "# TODO: There should be a version that simply \n",
    "# returns the projections onto the ray and \n",
    "# the distances to the ray.\n",
    "def get_1d_mixture_components(x, ys, sig):\n",
    "    \"\"\"Returns 1d mixture components and thier unnormalized weights.\"\"\"\n",
    "    # 1D-Mixture components and value to evaluate.\n",
    "    # These are given by the distances ALONG ray through `x`\n",
    "    d  = jnp.linalg.norm(x, axis=-1)\n",
    "    ds = ys @ x / d\n",
    "    \n",
    "    # 1D-Mixture weights.\n",
    "    # First compute the distances TO ray through `x`\n",
    "    # and then transforming them appropriately.\n",
    "    ws_ = jnp.linalg.norm(ds[...,None] * x/d - ys, axis=-1)\n",
    "    ws  = normal_logpdf(ws_, loc=0.0, scale=sig) + normal_logpdf(0.0, loc=0.0, scale=sig)\n",
    "\n",
    "    return d, ds, ws"
   ]
  },
  {
   "cell_type": "code",
   "execution_count": 8,
   "metadata": {},
   "outputs": [
    {
     "data": {
      "image/png": "[encoded data removed]"
     },
     "metadata": {},
     "output_type": "display_data"
    }
   ],
   "source": [
    "sig  = .1\n",
    "zmax = 1.\n",
    "\n",
    "xs = zmax*jnp.linspace(0.0,1.0,1000)[:,None]*jnp.array([0.0, 0.0, 1.0])\n",
    "x  = xs[-1]\n",
    "ys = zmax*jnp.array([ \n",
    "    [.01, 0., .1],\n",
    "    [0.1, 0, .5],\n",
    "    [-.3, 0, .6],\n",
    "    [1, 0, .7],\n",
    "    [.05, 0, .9],\n",
    "])\n",
    "\n",
    "d, ds, ws = get_1d_mixture_components(x, ys, sig)\n",
    "ws = ws - logsumexp(ws, axis=-1)\n",
    "\n",
    "# ------------------------------\n",
    "fig, ax = plt.subplots(1,1, figsize=(8,2), sharex=True)\n",
    "ax.set_xlim(-0.1*zmax,1.1*zmax)\n",
    "ax.scatter(ds, jnp.zeros(len(ds)),  s=jnp.exp(ws)*500, c=\"magenta\", label=\"1-dim Weighted\\nMixt. Comp.\")\n",
    "ax.scatter(d, x[0],marker=\"x\", c=\"blue\");\n",
    "ax.hlines(0, -0.1*zmax,1.1*zmax, color=\"magenta\", zorder=-1, linewidth=1.)\n",
    "ax.scatter(ys[:,2], ys[:,0], c=\"orange\", label=\"N-dim Mixt. Comp.\")\n",
    "ax.vlines(0, jnp.min(ys[:,0]), jnp.max(ys[:,0]), color=\"k\", zorder=-1, linewidth=1.)\n",
    "ax.scatter(0,0, c=\"k\")\n",
    "ax.legend(loc='upper left', bbox_to_anchor=(1, 1.))\n",
    "ax.spines['top'].set_visible(False)\n",
    "ax.spines['right'].set_visible(False)\n"
   ]
  },
  {
   "cell_type": "markdown",
   "metadata": {},
   "source": [
    "## Reality Checks \n",
    "\n",
    "Comparing the constrained 1d mixture with restricted 3d mixture and Nishad's 3dp3 likelihood."
   ]
  },
  {
   "cell_type": "code",
   "execution_count": 9,
   "metadata": {},
   "outputs": [
    {
     "data": {
      "image/png": "[encoded data removed]"
     },
     "metadata": {},
     "output_type": "display_data"
    }
   ],
   "source": [
    "sig = .1\n",
    "\n",
    "# Baseline of 3D-Mixture\n",
    "ws0 = jnp.zeros(len(ys)) - jnp.log(len(ys))\n",
    "ps0 = vmap(lambda x: \n",
    "            mixture_of_diagnormals.logpdf(x, ws0, ys, sig)\n",
    "      )(xs)\n",
    "\n",
    "# 3dp3 Likelihood\n",
    "ps1 = vmap(lambda x: threeDP3_logpdf(x, ys, sig**2, 0.0, 1.0))(xs)\n",
    "\n",
    "\n",
    "# Constrained 1D-Mixture\n",
    "_, ds, ws = get_1d_mixture_components(xs[-1], ys, sig)\n",
    "offset = logsumexp(ws) - jnp.log(len(ws))\n",
    "ps2 = vmap(lambda x: \n",
    "            mixture_of_normals.logpdf(x, ws, ds, sig)\n",
    "      )(jnp.linalg.norm(xs, axis=-1))\n",
    "ps2 += offset\n",
    "\n",
    "\n",
    "# =======================================\n",
    "fig, axs = plt.subplots(1,4, figsize=(12,2), sharey=True)\n",
    "axs[0].set_title(\"3D Mixture\")\n",
    "axs[0].plot(jnp.linalg.norm(xs, axis=-1), ps0)\n",
    "axs[1].set_title(\"3dp3 Likelihood\")\n",
    "axs[1].plot(jnp.linalg.norm(xs, axis=-1), ps1)\n",
    "axs[2].set_title(\"Constrained 1D-Mixture\")\n",
    "axs[2].plot(jnp.linalg.norm(xs, axis=-1), ps2)\n",
    "axs[3].plot(ps0 - ps2- offset);\n",
    "fig.tight_layout()"
   ]
  },
  {
   "cell_type": "code",
   "execution_count": 10,
   "metadata": {},
   "outputs": [
    {
     "data": {
      "text/html": [
       "<pre style=\"white-space:pre;overflow-x:auto;line-height:normal;font-family:Menlo,'DejaVu Sans Mono',consolas,'Courier New',monospace\"><span style=\"font-weight: bold\">(</span><span style=\"color: #800080; text-decoration-color: #800080; font-weight: bold\">Array</span><span style=\"font-weight: bold\">(</span><span style=\"color: #008080; text-decoration-color: #008080; font-weight: bold\">-45.627403</span>, <span style=\"color: #808000; text-decoration-color: #808000\">dtype</span>=<span style=\"color: #800080; text-decoration-color: #800080\">float32</span><span style=\"font-weight: bold\">)</span>, <span style=\"color: #800080; text-decoration-color: #800080; font-weight: bold\">Array</span><span style=\"font-weight: bold\">(</span><span style=\"color: #008080; text-decoration-color: #008080; font-weight: bold\">-45.627407</span>, <span style=\"color: #808000; text-decoration-color: #808000\">dtype</span>=<span style=\"color: #800080; text-decoration-color: #800080\">float32</span><span style=\"font-weight: bold\">))</span>\n",
       "</pre>\n"
      ],
      "text/plain": [
       "\u001b[1m(\u001b[0m\u001b[1;35mArray\u001b[0m\u001b[1m(\u001b[0m\u001b[1;36m-45.627403\u001b[0m, \u001b[33mdtype\u001b[0m=\u001b[35mfloat32\u001b[0m\u001b[1m)\u001b[0m, \u001b[1;35mArray\u001b[0m\u001b[1m(\u001b[0m\u001b[1;36m-45.627407\u001b[0m, \u001b[33mdtype\u001b[0m=\u001b[35mfloat32\u001b[0m\u001b[1m)\u001b[0m\u001b[1m)\u001b[0m\n"
      ]
     },
     "metadata": {},
     "output_type": "display_data"
    }
   ],
   "source": [
    "sig = 0.2\n",
    "x = jnp.array(np.random.randn(3))\n",
    "y = jnp.array(np.random.randn(3))\n",
    "\n",
    "d = jnp.linalg.norm(x)\n",
    "y_ = y@x/d\n",
    "w_ = jnp.linalg.norm(y_*x/d - y)\n",
    "\n",
    "\n",
    "(\n",
    "    diagnormal.logpdf(x, y, sig*jnp.ones_like(y)),\n",
    "    normal.logpdf(d, y_, sig) + normal.logpdf(w_, 0, sig) + normal.logpdf(0.0, 0.0, sig),\n",
    ")"
   ]
  },
  {
   "cell_type": "code",
   "execution_count": 11,
   "metadata": {},
   "outputs": [
    {
     "data": {
      "text/html": [
       "<pre style=\"white-space:pre;overflow-x:auto;line-height:normal;font-family:Menlo,'DejaVu Sans Mono',consolas,'Courier New',monospace\">\n",
       "<span style=\"font-weight: bold\">(</span>\n",
       "    <span style=\"color: #800080; text-decoration-color: #800080; font-weight: bold\">Array</span><span style=\"font-weight: bold\">(</span><span style=\"color: #008080; text-decoration-color: #008080; font-weight: bold\">-2.3233175</span>, <span style=\"color: #808000; text-decoration-color: #808000\">dtype</span>=<span style=\"color: #800080; text-decoration-color: #800080\">float32</span><span style=\"font-weight: bold\">)</span>,\n",
       "    <span style=\"color: #800080; text-decoration-color: #800080; font-weight: bold\">Array</span><span style=\"font-weight: bold\">(</span><span style=\"color: #008080; text-decoration-color: #008080; font-weight: bold\">-2.3233175</span>, <span style=\"color: #808000; text-decoration-color: #808000\">dtype</span>=<span style=\"color: #800080; text-decoration-color: #800080\">float32</span><span style=\"font-weight: bold\">)</span>,\n",
       "    <span style=\"color: #800080; text-decoration-color: #800080; font-weight: bold\">Array</span><span style=\"font-weight: bold\">(</span><span style=\"color: #008080; text-decoration-color: #008080; font-weight: bold\">-2.323317</span>, <span style=\"color: #808000; text-decoration-color: #808000\">dtype</span>=<span style=\"color: #800080; text-decoration-color: #800080\">float32</span><span style=\"font-weight: bold\">)</span>,\n",
       "    <span style=\"color: #800080; text-decoration-color: #800080; font-weight: bold\">Array</span><span style=\"font-weight: bold\">(</span><span style=\"color: #008080; text-decoration-color: #008080; font-weight: bold\">-2.3233166</span>, <span style=\"color: #808000; text-decoration-color: #808000\">dtype</span>=<span style=\"color: #800080; text-decoration-color: #800080\">float32</span><span style=\"font-weight: bold\">)</span>\n",
       "<span style=\"font-weight: bold\">)</span>\n",
       "</pre>\n"
      ],
      "text/plain": [
       "\n",
       "\u001b[1m(\u001b[0m\n",
       "    \u001b[1;35mArray\u001b[0m\u001b[1m(\u001b[0m\u001b[1;36m-2.3233175\u001b[0m, \u001b[33mdtype\u001b[0m=\u001b[35mfloat32\u001b[0m\u001b[1m)\u001b[0m,\n",
       "    \u001b[1;35mArray\u001b[0m\u001b[1m(\u001b[0m\u001b[1;36m-2.3233175\u001b[0m, \u001b[33mdtype\u001b[0m=\u001b[35mfloat32\u001b[0m\u001b[1m)\u001b[0m,\n",
       "    \u001b[1;35mArray\u001b[0m\u001b[1m(\u001b[0m\u001b[1;36m-2.323317\u001b[0m, \u001b[33mdtype\u001b[0m=\u001b[35mfloat32\u001b[0m\u001b[1m)\u001b[0m,\n",
       "    \u001b[1;35mArray\u001b[0m\u001b[1m(\u001b[0m\u001b[1;36m-2.3233166\u001b[0m, \u001b[33mdtype\u001b[0m=\u001b[35mfloat32\u001b[0m\u001b[1m)\u001b[0m\n",
       "\u001b[1m)\u001b[0m\n"
      ]
     },
     "metadata": {},
     "output_type": "display_data"
    }
   ],
   "source": [
    "sig = 0.2\n",
    "\n",
    "x  = jnp.array(np.random.randn(3))\n",
    "ys = jnp.array(np.random.randn(20,3))\n",
    "\n",
    "d   = jnp.linalg.norm(x)\n",
    "ys_ = jnp.dot(ys,x) / d\n",
    "ws_ = jnp.linalg.norm(ys_[:,None]*x[None]/d - ys, axis=-1)\n",
    "ws_ = normal_logpdf(ws_, 0.0, sig) + normal_logpdf(0.0, 0.0, sig)\n",
    "\n",
    "\n",
    "(\n",
    "    mixture_of_diagnormals.logpdf(x, jnp.zeros(len(ys)), ys, sig),\n",
    "\n",
    "    logsumexp(jnp.array([\n",
    "        diagnormal.logpdf(x, y, sig*jnp.ones_like(y)) for y in ys\n",
    "    ])) - jnp.log(len(ys)),\n",
    "\n",
    "    logsumexp(jnp.array([\n",
    "        normal_logpdf(d, y_, sig) + w_ for y_,w_ in zip(ys_, ws_)\n",
    "    ])) - jnp.log(len(ys)),\n",
    "\n",
    "    mixture_of_normals.logpdf(d, ws_, ys_, sig) + logsumexp(ws_) - jnp.log(len(ys))\n",
    ")"
   ]
  },
  {
   "cell_type": "markdown",
   "metadata": {},
   "source": [
    "## Constrained Likelihood Model"
   ]
  },
  {
   "cell_type": "code",
   "execution_count": 12,
   "metadata": {},
   "outputs": [],
   "source": [
    "#|export\n",
    "# Some helper to keep code concise\n",
    "min = jnp.minimum\n",
    "max = jnp.maximum\n",
    "\n",
    "\n",
    "def dslice(X, i, j, w):     \n",
    "    m = 2*w + 1\n",
    "    return  jax.lax.dynamic_slice(X, (i, j, 0), (m, m, 3))   \n",
    "\n",
    "\n",
    "def pad(X, w, val=-100.0):\n",
    "    return jax.lax.pad(X,  val, ((w,w,0),(w,w,0),(0,0,0)))\n",
    "\n",
    "\n",
    "def mix_std(ps, mus, stds):\n",
    "    \"\"\"Standard Deviation of a mixture of Gaussians.\"\"\"\n",
    "    return jnp.sqrt(jnp.sum(ps*stds**2) + jnp.sum(ps*mus**2) - (jnp.sum(ps*mus))**2)"
   ]
  },
  {
   "cell_type": "code",
   "execution_count": 13,
   "metadata": {},
   "outputs": [],
   "source": [
    "#|export\n",
    "# TODO: The input Y should be an array only containing range measruements as well. \n",
    "#       For this to work we need to have the pixel vectors (the rays through each pixel)\n",
    "\n",
    "def make_constrained_sensor_model(zmax, w):\n",
    "    \"\"\"Returns an (untruncated) constrained sensor model marginalized over outliers.\"\"\"    \n",
    "\n",
    "    pad_val = -100.0\n",
    "\n",
    "    @genjax.drop_arguments\n",
    "    @gen\n",
    "    def _sensor_model_ij(i, j, Y_, sig, outlier):\n",
    "\n",
    "        # Note that `i,j` are at the edge of the filter window,\n",
    "        # the Center is offset by `w``\n",
    "        y  = Y_[i+w,j+w] \n",
    "        ys = dslice(Y_, i, j, w).reshape(-1,3)\n",
    "        \n",
    "        d, ds, ws = get_1d_mixture_components(y, ys, sig)\n",
    "\n",
    "        inlier_outlier_mix = genjax.tfp_mixture(genjax.tfp_categorical, [\n",
    "                                mixture_of_normals, genjax.tfp_uniform])\n",
    "\n",
    "        # Adjustment weights to make up for \n",
    "        # the difference to the 3dp3 model\n",
    "        adj = logsumexp(ws) - jnp.log(len(ws))\n",
    "\n",
    "        # NOTE: To compare to baseline one should set: `zmax_ = zmax``\n",
    "        # zmax_ = d/y[2]*zmax\n",
    "        zmax_ = zmax\n",
    "        \n",
    "        z = inlier_outlier_mix([jnp.log(1.0-outlier), jnp.log(outlier)], (\n",
    "                                    (ws, ds, sig), \n",
    "                                    (0.0, zmax_))) @ \"measurement\"\n",
    "\n",
    "        return z * y/d, adj\n",
    "\n",
    "        \n",
    "    @gen\n",
    "    def sensor_model(Y, sig, outlier):   \n",
    "        \"\"\"\n",
    "        Constrained sensor model that returns a vector of range measurements conditioned on \n",
    "        an image, noise level, and outlier probability.\n",
    "        \"\"\"\n",
    "        Y_ = pad(Y, w, val=pad_val)\n",
    "\n",
    "        I, J = jnp.mgrid[:Y.shape[0], :Y.shape[1]]\n",
    "        I, J = I.ravel(), J.ravel()\n",
    "                \n",
    "        \n",
    "        X, W = genjax.Map(_sensor_model_ij, (0,0,None,None,None))(I, J, Y_, sig, outlier) @ \"X\"\n",
    "        W = W.reshape(Y.shape[:2])\n",
    "        X = X.reshape(Y.shape)\n",
    "\n",
    "        return X, W\n",
    "\n",
    "    return sensor_model"
   ]
  },
  {
   "cell_type": "code",
   "execution_count": 14,
   "metadata": {},
   "outputs": [],
   "source": [
    "#|export\n",
    "def get_data_logprobs(tr):\n",
    "    pixel_addr = lambda i: genjax.select({\"X\":\n",
    "        genjax.index_select(i,  genjax.select(\"measurement\"))\n",
    "    })\n",
    "    inds = jnp.arange(tr[\"X\", \"measurement\"].shape[0])\n",
    "    logps = vmap(lambda i: tr.project(pixel_addr(i)))(inds)\n",
    "    return logps"
   ]
  },
  {
   "cell_type": "markdown",
   "metadata": {},
   "source": [
    "## Explicit 3DP3 Baseline Model"
   ]
  },
  {
   "cell_type": "code",
   "execution_count": 1,
   "metadata": {},
   "outputs": [],
   "source": [
    "#|export\n",
    "from bayes3d.likelihood import threedp3_likelihood\n",
    "from genjax.generative_functions.distributions import ExactDensity\n",
    "from xsight.mixtures import HeterogeneousMixture\n",
    "\n",
    "class OutlierUniform(ExactDensity):\n",
    "    def sample(self, key, y, zmax):\n",
    "        u = zmax*jax.random.uniform(key)\n",
    "        return u*y\n",
    "\n",
    "    def logpdf(self, x, y, zmax):\n",
    "        # y_ = y/jnp.linalg.norm(y)\n",
    "        # u = jnp.dot(x,y_)\n",
    "        # return genjax.tfp_uniform.logpdf(u, 0.0, zmax)\n",
    "        return 1/zmax\n",
    "\n",
    "outlier_uniform = OutlierUniform()\n"
   ]
  },
  {
   "cell_type": "code",
   "execution_count": 16,
   "metadata": {},
   "outputs": [],
   "source": [
    "#|export\n",
    "def make_baseline_sensor_model(zmax, w):\n",
    "    \"\"\"Explicit version of the 3dp3 sensor model.\"\"\"\n",
    "  \n",
    "    pad_val = -100.0\n",
    "\n",
    "    @genjax.drop_arguments\n",
    "    @gen\n",
    "    def _sensor_model_ij(i, j, Y_, sig, outlier):\n",
    "\n",
    "        # Note that `i,j` are at the edge of the filter window,\n",
    "        # the Center is offset by `w``\n",
    "        y  = Y_[i+w,j+w] \n",
    "        ys = dslice(Y_, i, j, w).reshape(-1,3)\n",
    "\n",
    "        m = len(ys)\n",
    "\n",
    "        inlier_outlier_mix = HeterogeneousMixture([mixture_of_diagnormals, outlier_uniform])\n",
    "\n",
    "        # zmax_ = d/y[2]*zmax\n",
    "        zmax_ = zmax\n",
    "\n",
    "        x = inlier_outlier_mix(jnp.array([1.0-outlier, outlier]), (\n",
    "                                    (jnp.zeros(m), ys, sig), \n",
    "                                    (y, zmax_))) @ \"measurement\"\n",
    "\n",
    "        return x, None\n",
    "\n",
    "        \n",
    "    @gen\n",
    "    def sensor_model(Y, sig, outlier):   \n",
    "        \"\"\"Constrained sensor model.\"\"\"\n",
    "        Y_ = pad(Y, w, val=pad_val)\n",
    "\n",
    "        I, J = jnp.mgrid[:Y.shape[0], :Y.shape[1]]\n",
    "        I, J = I.ravel(), J.ravel()\n",
    "                \n",
    "        \n",
    "        X,_ = genjax.Map(_sensor_model_ij, (0,0,None,None,None))(I, J, Y_, sig, outlier) @ \"X\"\n",
    "        X = X.reshape(Y.shape)\n",
    "\n",
    "        return X, None\n",
    "\n",
    "    return sensor_model"
   ]
  },
  {
   "cell_type": "markdown",
   "metadata": {},
   "source": [
    "### Baseline reality check"
   ]
  },
  {
   "cell_type": "code",
   "execution_count": 35,
   "metadata": {},
   "outputs": [],
   "source": [
    "zmax = 50.\n",
    "w    = 7\n",
    "\n",
    "baseline_model = make_baseline_sensor_model(zmax, w)\n",
    "\n",
    "def _eval_baseline(X, Y, sig, outlier):\n",
    "    obs = genjax.choice_map({\"X\": \n",
    "            genjax.vector_choice_map({\n",
    "                \"measurement\": X[:,:,:3].reshape(-1,3)\n",
    "            }) \n",
    "    })\n",
    "    args = (Y[:,:,:3], sig, outlier)\n",
    "    w, tr = baseline_model.importance(key, obs, args)\n",
    "    logps = get_data_logprobs(tr).reshape(X.shape[:2])\n",
    "    return w, logps\n",
    "\n",
    "\n",
    "eval_baseline = jit(vmap(_eval_baseline, (None, 0, None, None)))"
   ]
  },
  {
   "cell_type": "code",
   "execution_count": 36,
   "metadata": {},
   "outputs": [],
   "source": [
    "model = make_constrained_sensor_model(zmax, w)\n",
    "\n",
    "def _eval_constrained(X, Y, sig, outlier):\n",
    "    obs = genjax.choice_map({\"X\": \n",
    "            genjax.vector_choice_map({\n",
    "                \"measurement\":  jnp.linalg.norm(X[:,:,:3], axis=-1).reshape(-1)\n",
    "            }) \n",
    "    })\n",
    "    args = (Y[:,:,:3], sig, outlier)\n",
    "    _, tr = model.importance(key, obs, args)\n",
    "    logps = get_data_logprobs(tr).reshape(X.shape[:2])\n",
    "    return tr.get_score(), logps, tr.get_retval()[1]\n",
    "\n",
    "eval_constrained = jit(vmap(_eval_constrained, (None, 0, None, None)))"
   ]
  },
  {
   "cell_type": "code",
   "execution_count": 37,
   "metadata": {},
   "outputs": [
    {
     "data": {
      "text/html": [
       "<pre style=\"white-space:pre;overflow-x:auto;line-height:normal;font-family:Menlo,'DejaVu Sans Mono',consolas,'Courier New',monospace\"><span style=\"font-weight: bold\">((</span><span style=\"color: #008080; text-decoration-color: #008080; font-weight: bold\">101</span>, <span style=\"color: #008080; text-decoration-color: #008080; font-weight: bold\">50</span>, <span style=\"color: #008080; text-decoration-color: #008080; font-weight: bold\">100</span>, <span style=\"color: #008080; text-decoration-color: #008080; font-weight: bold\">4</span><span style=\"font-weight: bold\">)</span>, <span style=\"font-weight: bold\">(</span><span style=\"color: #008080; text-decoration-color: #008080; font-weight: bold\">101</span>, <span style=\"color: #008080; text-decoration-color: #008080; font-weight: bold\">50</span>, <span style=\"color: #008080; text-decoration-color: #008080; font-weight: bold\">100</span>, <span style=\"color: #008080; text-decoration-color: #008080; font-weight: bold\">4</span><span style=\"font-weight: bold\">))</span>\n",
       "</pre>\n"
      ],
      "text/plain": [
       "\u001b[1m(\u001b[0m\u001b[1m(\u001b[0m\u001b[1;36m101\u001b[0m, \u001b[1;36m50\u001b[0m, \u001b[1;36m100\u001b[0m, \u001b[1;36m4\u001b[0m\u001b[1m)\u001b[0m, \u001b[1m(\u001b[0m\u001b[1;36m101\u001b[0m, \u001b[1;36m50\u001b[0m, \u001b[1;36m100\u001b[0m, \u001b[1;36m4\u001b[0m\u001b[1m)\u001b[0m\u001b[1m)\u001b[0m\n"
      ]
     },
     "metadata": {},
     "output_type": "display_data"
    }
   ],
   "source": [
    "#  Data created in \"Likelihood Test Data\" notebook.\n",
    "# suff = \"1x50\"\n",
    "suff = \"50x100\"\n",
    "Xs = jnp.load(f\"./data/test_Xs_{suff}.npy\")\n",
    "Ys = jnp.load(f\"./data/test_Ys_{suff}.npy\")\n",
    "ps = jnp.load(f\"./data/test_ps_{suff}.npy\")\n",
    "\n",
    "Xs.shape, Ys.shape"
   ]
  },
  {
   "cell_type": "code",
   "execution_count": 38,
   "metadata": {},
   "outputs": [
    {
     "data": {
      "image/png": "[encoded data removed]"
     },
     "metadata": {},
     "output_type": "display_data"
    },
    {
     "data": {
      "image/png": "[encoded data removed]"
     },
     "metadata": {},
     "output_type": "display_data"
    },
    {
     "data": {
      "image/png": "[encoded data removed]"
     },
     "metadata": {},
     "output_type": "display_data"
    },
    {
     "data": {
      "image/png": "[encoded data removed]"
     },
     "metadata": {},
     "output_type": "display_data"
    }
   ],
   "source": [
    "i = 20\n",
    "j = 15\n",
    "\n",
    "# ----------\n",
    "plt.figure(figsize=(4,1))\n",
    "plt.imshow(jnp.concatenate([Xs[i,:,:,2],Ys[i,:,:,2]], axis=1), vmax=6);\n",
    "# ----------\n",
    "plt.figure(figsize=(4,1))\n",
    "plt.imshow(jnp.concatenate([Xs[j,:,:,2],Ys[j,:,:,2]], axis=1), vmax=6);\n",
    "# ----------\n",
    "plt.figure(figsize=(4,1))\n",
    "plt.gca().set_aspect(1)\n",
    "plt.scatter(Xs[i,Xs.shape[1]//2,:,0],Xs[i,Xs.shape[1]//2,:,2], s=40);\n",
    "plt.scatter(Ys[i,Xs.shape[1]//2,:,0],Ys[i,Xs.shape[1]//2,:,2], s=10);\n",
    "\n",
    "# ----------\n",
    "plt.figure(figsize=(4,1))\n",
    "plt.gca().set_aspect(1)\n",
    "plt.scatter(Xs[j,Xs.shape[1]//2,:,0],Xs[j,Xs.shape[1]//2,:,2], s=40);\n",
    "plt.scatter(Ys[j,Xs.shape[1]//2,:,0],Ys[j,Xs.shape[1]//2,:,2], s=10);\n"
   ]
  },
  {
   "cell_type": "code",
   "execution_count": 39,
   "metadata": {},
   "outputs": [
    {
     "name": "stderr",
     "output_type": "stream",
     "text": [
      "warning: Linking two modules of different target triples: 'LLVMDialectModule' is 'nvptx64-nvidia-gpulibs' whereas '' is 'nvptx64-nvidia-cuda'\n",
      "\n",
      "2023-08-16 13:55:35.795911: W external/tsl/tsl/framework/bfc_allocator.cc:485] Allocator (GPU_0_bfc) ran out of memory trying to allocate 1.27GiB (rounded to 1367561216)requested by op \n",
      "2023-08-16 13:55:35.796136: W external/tsl/tsl/framework/bfc_allocator.cc:497] *_______________________________________________________________________________________________**x*\n",
      "2023-08-16 13:55:35.796297: E external/xla/xla/pjrt/pjrt_stream_executor_client.cc:2593] Execution of replica 0 failed: RESOURCE_EXHAUSTED: Out of memory while trying to allocate 1367560976 bytes.\n",
      "BufferAssignment OOM Debugging.\n",
      "BufferAssignment stats:\n",
      "             parameter allocation:    7.78MiB\n",
      "              constant allocation:         4B\n",
      "        maybe_live_out allocation:    3.85MiB\n",
      "     preallocated temp allocation:    1.27GiB\n",
      "  preallocated temp fragmentation:       480B (0.00%)\n",
      "                 total allocation:    1.28GiB\n",
      "              total fragmentation:     1.4KiB (0.00%)\n",
      "Peak buffers:\n",
      "\tBuffer 1:\n",
      "\t\tSize: 433.44MiB\n",
      "\t\tOperator: op_name=\"jit(_eval_constrained)/jit(main)/reduce_sum[axes=(2,)]\" source_file=\"/home/ubuntu/workspace/genjax/src/genjax/_src/core/interpreters/context.py\" source_line=97\n",
      "\t\tXLA Label: fusion\n",
      "\t\tShape: f32[101,5000,225]\n",
      "\t\t==========================\n",
      "\n",
      "\tBuffer 2:\n",
      "\t\tSize: 433.44MiB\n",
      "\t\tOperator: op_name=\"jit(_eval_constrained)/jit(main)/add\" source_file=\"/home/ubuntu/workspace/genjax/src/genjax/_src/core/interpreters/context.py\" source_line=97\n",
      "\t\tXLA Label: fusion\n",
      "\t\tShape: f32[101,5000,225]\n",
      "\t\t==========================\n",
      "\n",
      "\tBuffer 3:\n",
      "\t\tSize: 433.44MiB\n",
      "\t\tOperator: op_name=\"jit(_eval_constrained)/jit(main)/dot_general[dimension_numbers=(((3,), (2,)), ((0, 1), (0, 1))) precision=None preferred_element_type=None]\" source_file=\"/home/ubuntu/workspace/genjax/src/genjax/_src/core/interpreters/context.py\" source_line=97\n",
      "\t\tXLA Label: fusion\n",
      "\t\tShape: f32[101,5000,225]\n",
      "\t\t==========================\n",
      "\n",
      "\tBuffer 4:\n",
      "\t\tSize: 7.71MiB\n",
      "\t\tEntry Parameter Subshape: f32[101,50,100,4]\n",
      "\t\t==========================\n",
      "\n",
      "\tBuffer 5:\n",
      "\t\tSize: 1.93MiB\n",
      "\t\tOperator: op_name=\"jit(_eval_constrained)/jit(main)/reduce_sum[axes=(2,)]\" source_file=\"/home/ubuntu/workspace/genjax/src/genjax/_src/core/interpreters/context.py\" source_line=97\n",
      "\t\tXLA Label: fusion\n",
      "\t\tShape: f32[101,5000]\n",
      "\t\t==========================\n",
      "\n",
      "\tBuffer 6:\n",
      "\t\tSize: 1.93MiB\n",
      "\t\tOperator: op_name=\"jit(_eval_constrained)/jit(main)/vmap(vmap(Mixture))/log_prob/MixtureSameFamily/log_prob/reduce_max[axes=(2,)]\" source_file=\"/home/ubuntu/workspace/genjax/src/genjax/_src/core/interpreters/context.py\" source_line=97\n",
      "\t\tXLA Label: reduce\n",
      "\t\tShape: f32[101,5000]\n",
      "\t\t==========================\n",
      "\n",
      "\tBuffer 7:\n",
      "\t\tSize: 1.93MiB\n",
      "\t\tXLA Label: fusion\n",
      "\t\tShape: f32[101,50,100]\n",
      "\t\t==========================\n",
      "\n",
      "\tBuffer 8:\n",
      "\t\tSize: 1.93MiB\n",
      "\t\tXLA Label: fusion\n",
      "\t\tShape: f32[101,50,100]\n",
      "\t\t==========================\n",
      "\n",
      "\tBuffer 9:\n",
      "\t\tSize: 78.1KiB\n",
      "\t\tEntry Parameter Subshape: f32[50,100,4]\n",
      "\t\t==========================\n",
      "\n",
      "\tBuffer 10:\n",
      "\t\tSize: 19.5KiB\n",
      "\t\tXLA Label: fusion\n",
      "\t\tShape: f32[5000]\n",
      "\t\t==========================\n",
      "\n",
      "\tBuffer 11:\n",
      "\t\tSize: 404B\n",
      "\t\tXLA Label: fusion\n",
      "\t\tShape: f32[101]\n",
      "\t\t==========================\n",
      "\n",
      "\tBuffer 12:\n",
      "\t\tSize: 24B\n",
      "\t\tXLA Label: tuple\n",
      "\t\tShape: (f32[101], f32[101,50,100], f32[101,50,100])\n",
      "\t\t==========================\n",
      "\n",
      "\tBuffer 13:\n",
      "\t\tSize: 16B\n",
      "\t\tOperator: op_name=\"jit(_eval_constrained)/jit(main)/reduce_sum[axes=(2,)]\" source_file=\"/home/ubuntu/workspace/genjax/src/genjax/_src/core/interpreters/context.py\" source_line=97\n",
      "\t\tXLA Label: fusion\n",
      "\t\tShape: (f32[101,5000], f32[101,5000,225])\n",
      "\t\t==========================\n",
      "\n",
      "\tBuffer 14:\n",
      "\t\tSize: 16B\n",
      "\t\tOperator: op_name=\"jit(_eval_constrained)/jit(main)/vmap(vmap(Mixture))/log_prob/reduce_sum[axes=(0,)]\" source_file=\"/home/ubuntu/workspace/genjax/src/genjax/_src/core/interpreters/context.py\" source_line=97\n",
      "\t\tXLA Label: fusion\n",
      "\t\tShape: (f32[], f32[2])\n",
      "\t\t==========================\n",
      "\n",
      "\tBuffer 15:\n",
      "\t\tSize: 16B\n",
      "\t\tXLA Label: fusion\n",
      "\t\tShape: (f32[101,50,100], f32[101])\n",
      "\t\t==========================\n",
      "\n",
      "\n"
     ]
    },
    {
     "data": {
      "text/html": [
       "<pre style=\"white-space:pre;overflow-x:auto;line-height:normal;font-family:Menlo,'DejaVu Sans Mono',consolas,'Courier New',monospace\"><span style=\"color: #800000; text-decoration-color: #800000\">╭─────────────────────────────── </span><span style=\"color: #800000; text-decoration-color: #800000; font-weight: bold\">Traceback </span><span style=\"color: #bf7f7f; text-decoration-color: #bf7f7f; font-weight: bold\">(most recent call last)</span><span style=\"color: #800000; text-decoration-color: #800000\"> ────────────────────────────────╮</span>\n",
       "<span style=\"color: #800000; text-decoration-color: #800000\">│</span> <span style=\"color: #bfbf7f; text-decoration-color: #bfbf7f\">/tmp/ipykernel_10584/</span><span style=\"color: #808000; text-decoration-color: #808000; font-weight: bold\">245595676.py</span>:<span style=\"color: #0000ff; text-decoration-color: #0000ff\">7</span> in <span style=\"color: #00ff00; text-decoration-color: #00ff00\">&lt;module&gt;</span>                                                  <span style=\"color: #800000; text-decoration-color: #800000\">│</span>\n",
       "<span style=\"color: #800000; text-decoration-color: #800000\">│</span>                                                                                                  <span style=\"color: #800000; text-decoration-color: #800000\">│</span>\n",
       "<span style=\"color: #800000; text-decoration-color: #800000\">│</span> <span style=\"color: #800000; text-decoration-color: #800000; font-style: italic\">[Errno 2] No such file or directory: '/tmp/ipykernel_10584/245595676.py'</span>                         <span style=\"color: #800000; text-decoration-color: #800000\">│</span>\n",
       "<span style=\"color: #800000; text-decoration-color: #800000\">│</span>                                                                                                  <span style=\"color: #800000; text-decoration-color: #800000\">│</span>\n",
       "<span style=\"color: #800000; text-decoration-color: #800000\">│</span> <span style=\"color: #bfbf7f; text-decoration-color: #bfbf7f\">/opt/conda/envs/bayes3d/lib/python3.10/site-packages/jax/_src/</span><span style=\"color: #808000; text-decoration-color: #808000; font-weight: bold\">traceback_util.py</span>:<span style=\"color: #0000ff; text-decoration-color: #0000ff\">166</span> in           <span style=\"color: #800000; text-decoration-color: #800000\">│</span>\n",
       "<span style=\"color: #800000; text-decoration-color: #800000\">│</span> <span style=\"color: #00ff00; text-decoration-color: #00ff00\">reraise_with_filtered_traceback</span>                                                                  <span style=\"color: #800000; text-decoration-color: #800000\">│</span>\n",
       "<span style=\"color: #800000; text-decoration-color: #800000\">│</span>                                                                                                  <span style=\"color: #800000; text-decoration-color: #800000\">│</span>\n",
       "<span style=\"color: #800000; text-decoration-color: #800000\">│</span> <span style=\"color: #bfbf7f; text-decoration-color: #bfbf7f\">/opt/conda/envs/bayes3d/lib/python3.10/site-packages/jax/_src/</span><span style=\"color: #808000; text-decoration-color: #808000; font-weight: bold\">pjit.py</span>:<span style=\"color: #0000ff; text-decoration-color: #0000ff\">253</span> in <span style=\"color: #00ff00; text-decoration-color: #00ff00\">cache_miss</span>          <span style=\"color: #800000; text-decoration-color: #800000\">│</span>\n",
       "<span style=\"color: #800000; text-decoration-color: #800000\">│</span>                                                                                                  <span style=\"color: #800000; text-decoration-color: #800000\">│</span>\n",
       "<span style=\"color: #800000; text-decoration-color: #800000\">│</span> <span style=\"color: #bfbf7f; text-decoration-color: #bfbf7f\">/opt/conda/envs/bayes3d/lib/python3.10/site-packages/jax/_src/</span><span style=\"color: #808000; text-decoration-color: #808000; font-weight: bold\">pjit.py</span>:<span style=\"color: #0000ff; text-decoration-color: #0000ff\">166</span> in <span style=\"color: #00ff00; text-decoration-color: #00ff00\">_python_pjit_helper</span> <span style=\"color: #800000; text-decoration-color: #800000\">│</span>\n",
       "<span style=\"color: #800000; text-decoration-color: #800000\">│</span>                                                                                                  <span style=\"color: #800000; text-decoration-color: #800000\">│</span>\n",
       "<span style=\"color: #800000; text-decoration-color: #800000\">│</span> <span style=\"color: #bfbf7f; text-decoration-color: #bfbf7f\">/opt/conda/envs/bayes3d/lib/python3.10/site-packages/jax/_src/</span><span style=\"color: #808000; text-decoration-color: #808000; font-weight: bold\">core.py</span>:<span style=\"color: #0000ff; text-decoration-color: #0000ff\">2596</span> in <span style=\"color: #00ff00; text-decoration-color: #00ff00\">bind</span>               <span style=\"color: #800000; text-decoration-color: #800000\">│</span>\n",
       "<span style=\"color: #800000; text-decoration-color: #800000\">│</span>                                                                                                  <span style=\"color: #800000; text-decoration-color: #800000\">│</span>\n",
       "<span style=\"color: #800000; text-decoration-color: #800000\">│</span> <span style=\"color: #bfbf7f; text-decoration-color: #bfbf7f\">/opt/conda/envs/bayes3d/lib/python3.10/site-packages/jax/_src/</span><span style=\"color: #808000; text-decoration-color: #808000; font-weight: bold\">core.py</span>:<span style=\"color: #0000ff; text-decoration-color: #0000ff\">389</span> in <span style=\"color: #00ff00; text-decoration-color: #00ff00\">bind_with_trace</span>     <span style=\"color: #800000; text-decoration-color: #800000\">│</span>\n",
       "<span style=\"color: #800000; text-decoration-color: #800000\">│</span>                                                                                                  <span style=\"color: #800000; text-decoration-color: #800000\">│</span>\n",
       "<span style=\"color: #800000; text-decoration-color: #800000\">│</span> <span style=\"color: #bfbf7f; text-decoration-color: #bfbf7f\">/opt/conda/envs/bayes3d/lib/python3.10/site-packages/jax/_src/</span><span style=\"color: #808000; text-decoration-color: #808000; font-weight: bold\">core.py</span>:<span style=\"color: #0000ff; text-decoration-color: #0000ff\">821</span> in <span style=\"color: #00ff00; text-decoration-color: #00ff00\">process_primitive</span>   <span style=\"color: #800000; text-decoration-color: #800000\">│</span>\n",
       "<span style=\"color: #800000; text-decoration-color: #800000\">│</span>                                                                                                  <span style=\"color: #800000; text-decoration-color: #800000\">│</span>\n",
       "<span style=\"color: #800000; text-decoration-color: #800000\">│</span> <span style=\"color: #bfbf7f; text-decoration-color: #bfbf7f\">/opt/conda/envs/bayes3d/lib/python3.10/site-packages/jax/_src/</span><span style=\"color: #808000; text-decoration-color: #808000; font-weight: bold\">pjit.py</span>:<span style=\"color: #0000ff; text-decoration-color: #0000ff\">1209</span> in <span style=\"color: #00ff00; text-decoration-color: #00ff00\">_pjit_call_impl</span>    <span style=\"color: #800000; text-decoration-color: #800000\">│</span>\n",
       "<span style=\"color: #800000; text-decoration-color: #800000\">│</span>                                                                                                  <span style=\"color: #800000; text-decoration-color: #800000\">│</span>\n",
       "<span style=\"color: #800000; text-decoration-color: #800000\">│</span> <span style=\"color: #bfbf7f; text-decoration-color: #bfbf7f\">/opt/conda/envs/bayes3d/lib/python3.10/site-packages/jax/_src/</span><span style=\"color: #808000; text-decoration-color: #808000; font-weight: bold\">pjit.py</span>:<span style=\"color: #0000ff; text-decoration-color: #0000ff\">1192</span> in                    <span style=\"color: #800000; text-decoration-color: #800000\">│</span>\n",
       "<span style=\"color: #800000; text-decoration-color: #800000\">│</span> <span style=\"color: #00ff00; text-decoration-color: #00ff00\">call_impl_cache_miss</span>                                                                             <span style=\"color: #800000; text-decoration-color: #800000\">│</span>\n",
       "<span style=\"color: #800000; text-decoration-color: #800000\">│</span>                                                                                                  <span style=\"color: #800000; text-decoration-color: #800000\">│</span>\n",
       "<span style=\"color: #800000; text-decoration-color: #800000\">│</span> <span style=\"color: #bfbf7f; text-decoration-color: #bfbf7f\">/opt/conda/envs/bayes3d/lib/python3.10/site-packages/jax/_src/</span><span style=\"color: #808000; text-decoration-color: #808000; font-weight: bold\">pjit.py</span>:<span style=\"color: #0000ff; text-decoration-color: #0000ff\">1148</span> in                    <span style=\"color: #800000; text-decoration-color: #800000\">│</span>\n",
       "<span style=\"color: #800000; text-decoration-color: #800000\">│</span> <span style=\"color: #00ff00; text-decoration-color: #00ff00\">_pjit_call_impl_python</span>                                                                           <span style=\"color: #800000; text-decoration-color: #800000\">│</span>\n",
       "<span style=\"color: #800000; text-decoration-color: #800000\">│</span>                                                                                                  <span style=\"color: #800000; text-decoration-color: #800000\">│</span>\n",
       "<span style=\"color: #800000; text-decoration-color: #800000\">│</span> <span style=\"color: #bfbf7f; text-decoration-color: #bfbf7f\">/opt/conda/envs/bayes3d/lib/python3.10/site-packages/jax/_src/</span><span style=\"color: #808000; text-decoration-color: #808000; font-weight: bold\">profiler.py</span>:<span style=\"color: #0000ff; text-decoration-color: #0000ff\">314</span> in <span style=\"color: #00ff00; text-decoration-color: #00ff00\">wrapper</span>         <span style=\"color: #800000; text-decoration-color: #800000\">│</span>\n",
       "<span style=\"color: #800000; text-decoration-color: #800000\">│</span>                                                                                                  <span style=\"color: #800000; text-decoration-color: #800000\">│</span>\n",
       "<span style=\"color: #800000; text-decoration-color: #800000\">│</span> <span style=\"color: #bfbf7f; text-decoration-color: #bfbf7f\">/opt/conda/envs/bayes3d/lib/python3.10/site-packages/jax/_src/interpreters/</span><span style=\"color: #808000; text-decoration-color: #808000; font-weight: bold\">pxla.py</span>:<span style=\"color: #0000ff; text-decoration-color: #0000ff\">1229</span> in       <span style=\"color: #800000; text-decoration-color: #800000\">│</span>\n",
       "<span style=\"color: #800000; text-decoration-color: #800000\">│</span> <span style=\"color: #00ff00; text-decoration-color: #00ff00\">__call__</span>                                                                                         <span style=\"color: #800000; text-decoration-color: #800000\">│</span>\n",
       "<span style=\"color: #800000; text-decoration-color: #800000\">╰──────────────────────────────────────────────────────────────────────────────────────────────────╯</span>\n",
       "<span style=\"color: #ff0000; text-decoration-color: #ff0000; font-weight: bold\">XlaRuntimeError: </span>RESOURCE_EXHAUSTED: Out of memory while trying to allocate <span style=\"color: #008080; text-decoration-color: #008080; font-weight: bold\">1367560976</span> bytes.\n",
       "BufferAssignment OOM Debugging.\n",
       "BufferAssignment stats:\n",
       "             parameter allocation:    <span style=\"color: #008080; text-decoration-color: #008080; font-weight: bold\">7.</span>78MiB\n",
       "              constant allocation:         4B\n",
       "        maybe_live_out allocation:    <span style=\"color: #008080; text-decoration-color: #008080; font-weight: bold\">3.</span>85MiB\n",
       "     preallocated temp allocation:    <span style=\"color: #008080; text-decoration-color: #008080; font-weight: bold\">1.</span>27GiB\n",
       "  preallocated temp fragmentation:       480B <span style=\"font-weight: bold\">(</span><span style=\"color: #008080; text-decoration-color: #008080; font-weight: bold\">0.00</span>%<span style=\"font-weight: bold\">)</span>\n",
       "                 total allocation:    <span style=\"color: #008080; text-decoration-color: #008080; font-weight: bold\">1.</span>28GiB\n",
       "              total fragmentation:     <span style=\"color: #008080; text-decoration-color: #008080; font-weight: bold\">1.</span>4KiB <span style=\"font-weight: bold\">(</span><span style=\"color: #008080; text-decoration-color: #008080; font-weight: bold\">0.00</span>%<span style=\"font-weight: bold\">)</span>\n",
       "Peak buffers:\n",
       "        Buffer <span style=\"color: #008080; text-decoration-color: #008080; font-weight: bold\">1</span>:\n",
       "                Size: <span style=\"color: #008080; text-decoration-color: #008080; font-weight: bold\">433.</span>44MiB\n",
       "                Operator: <span style=\"color: #808000; text-decoration-color: #808000\">op_name</span>=<span style=\"color: #008000; text-decoration-color: #008000\">\"jit(_eval_constrained)/jit(main)/reduce_sum[axes=(2,)]\"</span> \n",
       "<span style=\"color: #808000; text-decoration-color: #808000\">source_file</span>=<span style=\"color: #008000; text-decoration-color: #008000\">\"/home/ubuntu/workspace/genjax/src/genjax/_src/core/interpreters/context.py\"</span> <span style=\"color: #808000; text-decoration-color: #808000\">source_line</span>=<span style=\"color: #008080; text-decoration-color: #008080; font-weight: bold\">97</span>\n",
       "                XLA Label: fusion\n",
       "                Shape: f32<span style=\"font-weight: bold\">[</span><span style=\"color: #008080; text-decoration-color: #008080; font-weight: bold\">101</span>,<span style=\"color: #008080; text-decoration-color: #008080; font-weight: bold\">5000</span>,<span style=\"color: #008080; text-decoration-color: #008080; font-weight: bold\">225</span><span style=\"font-weight: bold\">]</span>\n",
       "                ==========================\n",
       "\n",
       "        Buffer <span style=\"color: #008080; text-decoration-color: #008080; font-weight: bold\">2</span>:\n",
       "                Size: <span style=\"color: #008080; text-decoration-color: #008080; font-weight: bold\">433.</span>44MiB\n",
       "                Operator: <span style=\"color: #808000; text-decoration-color: #808000\">op_name</span>=<span style=\"color: #008000; text-decoration-color: #008000\">\"jit(_eval_constrained)/jit(main)/add\"</span> \n",
       "<span style=\"color: #808000; text-decoration-color: #808000\">source_file</span>=<span style=\"color: #008000; text-decoration-color: #008000\">\"/home/ubuntu/workspace/genjax/src/genjax/_src/core/interpreters/context.py\"</span> <span style=\"color: #808000; text-decoration-color: #808000\">source_line</span>=<span style=\"color: #008080; text-decoration-color: #008080; font-weight: bold\">97</span>\n",
       "                XLA Label: fusion\n",
       "                Shape: f32<span style=\"font-weight: bold\">[</span><span style=\"color: #008080; text-decoration-color: #008080; font-weight: bold\">101</span>,<span style=\"color: #008080; text-decoration-color: #008080; font-weight: bold\">5000</span>,<span style=\"color: #008080; text-decoration-color: #008080; font-weight: bold\">225</span><span style=\"font-weight: bold\">]</span>\n",
       "                ==========================\n",
       "\n",
       "        Buffer <span style=\"color: #008080; text-decoration-color: #008080; font-weight: bold\">3</span>:\n",
       "                Size: <span style=\"color: #008080; text-decoration-color: #008080; font-weight: bold\">433.</span>44MiB\n",
       "                Operator: <span style=\"color: #808000; text-decoration-color: #808000\">op_name</span>=<span style=\"color: #008000; text-decoration-color: #008000\">\"jit(_eval_constrained)/jit(main)/dot_general[dimension_numbers=(((3,), (2,)), </span>\n",
       "<span style=\"color: #008000; text-decoration-color: #008000\">((0, 1), (0, 1))) precision=None preferred_element_type=None]\"</span> \n",
       "<span style=\"color: #808000; text-decoration-color: #808000\">source_file</span>=<span style=\"color: #008000; text-decoration-color: #008000\">\"/home/ubuntu/workspace/genjax/src/genjax/_src/core/interpreters/context.py\"</span> <span style=\"color: #808000; text-decoration-color: #808000\">source_line</span>=<span style=\"color: #008080; text-decoration-color: #008080; font-weight: bold\">97</span>\n",
       "                XLA Label: fusion\n",
       "                Shape: f32<span style=\"font-weight: bold\">[</span><span style=\"color: #008080; text-decoration-color: #008080; font-weight: bold\">101</span>,<span style=\"color: #008080; text-decoration-color: #008080; font-weight: bold\">5000</span>,<span style=\"color: #008080; text-decoration-color: #008080; font-weight: bold\">225</span><span style=\"font-weight: bold\">]</span>\n",
       "                ==========================\n",
       "\n",
       "        Buffer <span style=\"color: #008080; text-decoration-color: #008080; font-weight: bold\">4</span>:\n",
       "                Size: <span style=\"color: #008080; text-decoration-color: #008080; font-weight: bold\">7.</span>71MiB\n",
       "                Entry Parameter Subshape: f32<span style=\"font-weight: bold\">[</span><span style=\"color: #008080; text-decoration-color: #008080; font-weight: bold\">101</span>,<span style=\"color: #008080; text-decoration-color: #008080; font-weight: bold\">50</span>,<span style=\"color: #008080; text-decoration-color: #008080; font-weight: bold\">100</span>,<span style=\"color: #008080; text-decoration-color: #008080; font-weight: bold\">4</span><span style=\"font-weight: bold\">]</span>\n",
       "                ==========================\n",
       "\n",
       "        Buffer <span style=\"color: #008080; text-decoration-color: #008080; font-weight: bold\">5</span>:\n",
       "                Size: <span style=\"color: #008080; text-decoration-color: #008080; font-weight: bold\">1.</span>93MiB\n",
       "                Operator: <span style=\"color: #808000; text-decoration-color: #808000\">op_name</span>=<span style=\"color: #008000; text-decoration-color: #008000\">\"jit(_eval_constrained)/jit(main)/reduce_sum[axes=(2,)]\"</span> \n",
       "<span style=\"color: #808000; text-decoration-color: #808000\">source_file</span>=<span style=\"color: #008000; text-decoration-color: #008000\">\"/home/ubuntu/workspace/genjax/src/genjax/_src/core/interpreters/context.py\"</span> <span style=\"color: #808000; text-decoration-color: #808000\">source_line</span>=<span style=\"color: #008080; text-decoration-color: #008080; font-weight: bold\">97</span>\n",
       "                XLA Label: fusion\n",
       "                Shape: f32<span style=\"font-weight: bold\">[</span><span style=\"color: #008080; text-decoration-color: #008080; font-weight: bold\">101</span>,<span style=\"color: #008080; text-decoration-color: #008080; font-weight: bold\">5000</span><span style=\"font-weight: bold\">]</span>\n",
       "                ==========================\n",
       "\n",
       "        Buffer <span style=\"color: #008080; text-decoration-color: #008080; font-weight: bold\">6</span>:\n",
       "                Size: <span style=\"color: #008080; text-decoration-color: #008080; font-weight: bold\">1.</span>93MiB\n",
       "                Operator: \n",
       "<span style=\"color: #808000; text-decoration-color: #808000\">op_name</span>=<span style=\"color: #008000; text-decoration-color: #008000\">\"jit(_eval_constrained)/jit(main)/vmap(vmap(Mixture))/log_prob/MixtureSameFamily/log_prob/reduce_max[axes=(</span>\n",
       "<span style=\"color: #008000; text-decoration-color: #008000\">2,)]\"</span> <span style=\"color: #808000; text-decoration-color: #808000\">source_file</span>=<span style=\"color: #008000; text-decoration-color: #008000\">\"/home/ubuntu/workspace/genjax/src/genjax/_src/core/interpreters/context.py\"</span> <span style=\"color: #808000; text-decoration-color: #808000\">source_line</span>=<span style=\"color: #008080; text-decoration-color: #008080; font-weight: bold\">97</span>\n",
       "                XLA Label: reduce\n",
       "                Shape: f32<span style=\"font-weight: bold\">[</span><span style=\"color: #008080; text-decoration-color: #008080; font-weight: bold\">101</span>,<span style=\"color: #008080; text-decoration-color: #008080; font-weight: bold\">5000</span><span style=\"font-weight: bold\">]</span>\n",
       "                ==========================\n",
       "\n",
       "        Buffer <span style=\"color: #008080; text-decoration-color: #008080; font-weight: bold\">7</span>:\n",
       "                Size: <span style=\"color: #008080; text-decoration-color: #008080; font-weight: bold\">1.</span>93MiB\n",
       "                XLA Label: fusion\n",
       "                Shape: f32<span style=\"font-weight: bold\">[</span><span style=\"color: #008080; text-decoration-color: #008080; font-weight: bold\">101</span>,<span style=\"color: #008080; text-decoration-color: #008080; font-weight: bold\">50</span>,<span style=\"color: #008080; text-decoration-color: #008080; font-weight: bold\">100</span><span style=\"font-weight: bold\">]</span>\n",
       "                ==========================\n",
       "\n",
       "        Buffer <span style=\"color: #008080; text-decoration-color: #008080; font-weight: bold\">8</span>:\n",
       "                Size: <span style=\"color: #008080; text-decoration-color: #008080; font-weight: bold\">1.</span>93MiB\n",
       "                XLA Label: fusion\n",
       "                Shape: f32<span style=\"font-weight: bold\">[</span><span style=\"color: #008080; text-decoration-color: #008080; font-weight: bold\">101</span>,<span style=\"color: #008080; text-decoration-color: #008080; font-weight: bold\">50</span>,<span style=\"color: #008080; text-decoration-color: #008080; font-weight: bold\">100</span><span style=\"font-weight: bold\">]</span>\n",
       "                ==========================\n",
       "\n",
       "        Buffer <span style=\"color: #008080; text-decoration-color: #008080; font-weight: bold\">9</span>:\n",
       "                Size: <span style=\"color: #008080; text-decoration-color: #008080; font-weight: bold\">78.</span>1KiB\n",
       "                Entry Parameter Subshape: f32<span style=\"font-weight: bold\">[</span><span style=\"color: #008080; text-decoration-color: #008080; font-weight: bold\">50</span>,<span style=\"color: #008080; text-decoration-color: #008080; font-weight: bold\">100</span>,<span style=\"color: #008080; text-decoration-color: #008080; font-weight: bold\">4</span><span style=\"font-weight: bold\">]</span>\n",
       "                ==========================\n",
       "\n",
       "        Buffer <span style=\"color: #008080; text-decoration-color: #008080; font-weight: bold\">10</span>:\n",
       "                Size: <span style=\"color: #008080; text-decoration-color: #008080; font-weight: bold\">19.</span>5KiB\n",
       "                XLA Label: fusion\n",
       "                Shape: f32<span style=\"font-weight: bold\">[</span><span style=\"color: #008080; text-decoration-color: #008080; font-weight: bold\">5000</span><span style=\"font-weight: bold\">]</span>\n",
       "                ==========================\n",
       "\n",
       "        Buffer <span style=\"color: #008080; text-decoration-color: #008080; font-weight: bold\">11</span>:\n",
       "                Size: 404B\n",
       "                XLA Label: fusion\n",
       "                Shape: f32<span style=\"font-weight: bold\">[</span><span style=\"color: #008080; text-decoration-color: #008080; font-weight: bold\">101</span><span style=\"font-weight: bold\">]</span>\n",
       "                ==========================\n",
       "\n",
       "        Buffer <span style=\"color: #008080; text-decoration-color: #008080; font-weight: bold\">12</span>:\n",
       "                Size: 24B\n",
       "                XLA Label: tuple\n",
       "                Shape: <span style=\"font-weight: bold\">(</span>f32<span style=\"font-weight: bold\">[</span><span style=\"color: #008080; text-decoration-color: #008080; font-weight: bold\">101</span><span style=\"font-weight: bold\">]</span>, f32<span style=\"font-weight: bold\">[</span><span style=\"color: #008080; text-decoration-color: #008080; font-weight: bold\">101</span>,<span style=\"color: #008080; text-decoration-color: #008080; font-weight: bold\">50</span>,<span style=\"color: #008080; text-decoration-color: #008080; font-weight: bold\">100</span><span style=\"font-weight: bold\">]</span>, f32<span style=\"font-weight: bold\">[</span><span style=\"color: #008080; text-decoration-color: #008080; font-weight: bold\">101</span>,<span style=\"color: #008080; text-decoration-color: #008080; font-weight: bold\">50</span>,<span style=\"color: #008080; text-decoration-color: #008080; font-weight: bold\">100</span><span style=\"font-weight: bold\">])</span>\n",
       "                ==========================\n",
       "\n",
       "        Buffer <span style=\"color: #008080; text-decoration-color: #008080; font-weight: bold\">13</span>:\n",
       "                Size: 16B\n",
       "                Operator: <span style=\"color: #808000; text-decoration-color: #808000\">op_name</span>=<span style=\"color: #008000; text-decoration-color: #008000\">\"jit(_eval_constrained)/jit(main)/reduce_sum[axes=(2,)]\"</span> \n",
       "<span style=\"color: #808000; text-decoration-color: #808000\">source_file</span>=<span style=\"color: #008000; text-decoration-color: #008000\">\"/home/ubuntu/workspace/genjax/src/genjax/_src/core/interpreters/context.py\"</span> <span style=\"color: #808000; text-decoration-color: #808000\">source_line</span>=<span style=\"color: #008080; text-decoration-color: #008080; font-weight: bold\">97</span>\n",
       "                XLA Label: fusion\n",
       "                Shape: <span style=\"font-weight: bold\">(</span>f32<span style=\"font-weight: bold\">[</span><span style=\"color: #008080; text-decoration-color: #008080; font-weight: bold\">101</span>,<span style=\"color: #008080; text-decoration-color: #008080; font-weight: bold\">5000</span><span style=\"font-weight: bold\">]</span>, f32<span style=\"font-weight: bold\">[</span><span style=\"color: #008080; text-decoration-color: #008080; font-weight: bold\">101</span>,<span style=\"color: #008080; text-decoration-color: #008080; font-weight: bold\">5000</span>,<span style=\"color: #008080; text-decoration-color: #008080; font-weight: bold\">225</span><span style=\"font-weight: bold\">])</span>\n",
       "                ==========================\n",
       "\n",
       "        Buffer <span style=\"color: #008080; text-decoration-color: #008080; font-weight: bold\">14</span>:\n",
       "                Size: 16B\n",
       "                Operator: \n",
       "<span style=\"color: #808000; text-decoration-color: #808000\">op_name</span>=<span style=\"color: #008000; text-decoration-color: #008000\">\"jit(_eval_constrained)/jit(main)/vmap(vmap(Mixture))/log_prob/reduce_sum[axes=(0,)]\"</span> \n",
       "<span style=\"color: #808000; text-decoration-color: #808000\">source_file</span>=<span style=\"color: #008000; text-decoration-color: #008000\">\"/home/ubuntu/workspace/genjax/src/genjax/_src/core/interpreters/context.py\"</span> <span style=\"color: #808000; text-decoration-color: #808000\">source_line</span>=<span style=\"color: #008080; text-decoration-color: #008080; font-weight: bold\">97</span>\n",
       "                XLA Label: fusion\n",
       "                Shape: <span style=\"font-weight: bold\">(</span>f32<span style=\"font-weight: bold\">[]</span>, f32<span style=\"font-weight: bold\">[</span><span style=\"color: #008080; text-decoration-color: #008080; font-weight: bold\">2</span><span style=\"font-weight: bold\">])</span>\n",
       "                ==========================\n",
       "\n",
       "        Buffer <span style=\"color: #008080; text-decoration-color: #008080; font-weight: bold\">15</span>:\n",
       "                Size: 16B\n",
       "                XLA Label: fusion\n",
       "                Shape: <span style=\"font-weight: bold\">(</span>f32<span style=\"font-weight: bold\">[</span><span style=\"color: #008080; text-decoration-color: #008080; font-weight: bold\">101</span>,<span style=\"color: #008080; text-decoration-color: #008080; font-weight: bold\">50</span>,<span style=\"color: #008080; text-decoration-color: #008080; font-weight: bold\">100</span><span style=\"font-weight: bold\">]</span>, f32<span style=\"font-weight: bold\">[</span><span style=\"color: #008080; text-decoration-color: #008080; font-weight: bold\">101</span><span style=\"font-weight: bold\">])</span>\n",
       "                ==========================\n",
       "\n",
       "\n",
       "</pre>\n"
      ],
      "text/plain": [
       "\u001b[31m╭─\u001b[0m\u001b[31m──────────────────────────────\u001b[0m\u001b[31m \u001b[0m\u001b[1;31mTraceback \u001b[0m\u001b[1;2;31m(most recent call last)\u001b[0m\u001b[31m \u001b[0m\u001b[31m───────────────────────────────\u001b[0m\u001b[31m─╮\u001b[0m\n",
       "\u001b[31m│\u001b[0m \u001b[2;33m/tmp/ipykernel_10584/\u001b[0m\u001b[1;33m245595676.py\u001b[0m:\u001b[94m7\u001b[0m in \u001b[92m<module>\u001b[0m                                                  \u001b[31m│\u001b[0m\n",
       "\u001b[31m│\u001b[0m                                                                                                  \u001b[31m│\u001b[0m\n",
       "\u001b[31m│\u001b[0m \u001b[3;31m[Errno 2] No such file or directory: '/tmp/ipykernel_10584/245595676.py'\u001b[0m                         \u001b[31m│\u001b[0m\n",
       "\u001b[31m│\u001b[0m                                                                                                  \u001b[31m│\u001b[0m\n",
       "\u001b[31m│\u001b[0m \u001b[2;33m/opt/conda/envs/bayes3d/lib/python3.10/site-packages/jax/_src/\u001b[0m\u001b[1;33mtraceback_util.py\u001b[0m:\u001b[94m166\u001b[0m in           \u001b[31m│\u001b[0m\n",
       "\u001b[31m│\u001b[0m \u001b[92mreraise_with_filtered_traceback\u001b[0m                                                                  \u001b[31m│\u001b[0m\n",
       "\u001b[31m│\u001b[0m                                                                                                  \u001b[31m│\u001b[0m\n",
       "\u001b[31m│\u001b[0m \u001b[2;33m/opt/conda/envs/bayes3d/lib/python3.10/site-packages/jax/_src/\u001b[0m\u001b[1;33mpjit.py\u001b[0m:\u001b[94m253\u001b[0m in \u001b[92mcache_miss\u001b[0m          \u001b[31m│\u001b[0m\n",
       "\u001b[31m│\u001b[0m                                                                                                  \u001b[31m│\u001b[0m\n",
       "\u001b[31m│\u001b[0m \u001b[2;33m/opt/conda/envs/bayes3d/lib/python3.10/site-packages/jax/_src/\u001b[0m\u001b[1;33mpjit.py\u001b[0m:\u001b[94m166\u001b[0m in \u001b[92m_python_pjit_helper\u001b[0m \u001b[31m│\u001b[0m\n",
       "\u001b[31m│\u001b[0m                                                                                                  \u001b[31m│\u001b[0m\n",
       "\u001b[31m│\u001b[0m \u001b[2;33m/opt/conda/envs/bayes3d/lib/python3.10/site-packages/jax/_src/\u001b[0m\u001b[1;33mcore.py\u001b[0m:\u001b[94m2596\u001b[0m in \u001b[92mbind\u001b[0m               \u001b[31m│\u001b[0m\n",
       "\u001b[31m│\u001b[0m                                                                                                  \u001b[31m│\u001b[0m\n",
       "\u001b[31m│\u001b[0m \u001b[2;33m/opt/conda/envs/bayes3d/lib/python3.10/site-packages/jax/_src/\u001b[0m\u001b[1;33mcore.py\u001b[0m:\u001b[94m389\u001b[0m in \u001b[92mbind_with_trace\u001b[0m     \u001b[31m│\u001b[0m\n",
       "\u001b[31m│\u001b[0m                                                                                                  \u001b[31m│\u001b[0m\n",
       "\u001b[31m│\u001b[0m \u001b[2;33m/opt/conda/envs/bayes3d/lib/python3.10/site-packages/jax/_src/\u001b[0m\u001b[1;33mcore.py\u001b[0m:\u001b[94m821\u001b[0m in \u001b[92mprocess_primitive\u001b[0m   \u001b[31m│\u001b[0m\n",
       "\u001b[31m│\u001b[0m                                                                                                  \u001b[31m│\u001b[0m\n",
       "\u001b[31m│\u001b[0m \u001b[2;33m/opt/conda/envs/bayes3d/lib/python3.10/site-packages/jax/_src/\u001b[0m\u001b[1;33mpjit.py\u001b[0m:\u001b[94m1209\u001b[0m in \u001b[92m_pjit_call_impl\u001b[0m    \u001b[31m│\u001b[0m\n",
       "\u001b[31m│\u001b[0m                                                                                                  \u001b[31m│\u001b[0m\n",
       "\u001b[31m│\u001b[0m \u001b[2;33m/opt/conda/envs/bayes3d/lib/python3.10/site-packages/jax/_src/\u001b[0m\u001b[1;33mpjit.py\u001b[0m:\u001b[94m1192\u001b[0m in                    \u001b[31m│\u001b[0m\n",
       "\u001b[31m│\u001b[0m \u001b[92mcall_impl_cache_miss\u001b[0m                                                                             \u001b[31m│\u001b[0m\n",
       "\u001b[31m│\u001b[0m                                                                                                  \u001b[31m│\u001b[0m\n",
       "\u001b[31m│\u001b[0m \u001b[2;33m/opt/conda/envs/bayes3d/lib/python3.10/site-packages/jax/_src/\u001b[0m\u001b[1;33mpjit.py\u001b[0m:\u001b[94m1148\u001b[0m in                    \u001b[31m│\u001b[0m\n",
       "\u001b[31m│\u001b[0m \u001b[92m_pjit_call_impl_python\u001b[0m                                                                           \u001b[31m│\u001b[0m\n",
       "\u001b[31m│\u001b[0m                                                                                                  \u001b[31m│\u001b[0m\n",
       "\u001b[31m│\u001b[0m \u001b[2;33m/opt/conda/envs/bayes3d/lib/python3.10/site-packages/jax/_src/\u001b[0m\u001b[1;33mprofiler.py\u001b[0m:\u001b[94m314\u001b[0m in \u001b[92mwrapper\u001b[0m         \u001b[31m│\u001b[0m\n",
       "\u001b[31m│\u001b[0m                                                                                                  \u001b[31m│\u001b[0m\n",
       "\u001b[31m│\u001b[0m \u001b[2;33m/opt/conda/envs/bayes3d/lib/python3.10/site-packages/jax/_src/interpreters/\u001b[0m\u001b[1;33mpxla.py\u001b[0m:\u001b[94m1229\u001b[0m in       \u001b[31m│\u001b[0m\n",
       "\u001b[31m│\u001b[0m \u001b[92m__call__\u001b[0m                                                                                         \u001b[31m│\u001b[0m\n",
       "\u001b[31m╰──────────────────────────────────────────────────────────────────────────────────────────────────╯\u001b[0m\n",
       "\u001b[1;91mXlaRuntimeError: \u001b[0mRESOURCE_EXHAUSTED: Out of memory while trying to allocate \u001b[1;36m1367560976\u001b[0m bytes.\n",
       "BufferAssignment OOM Debugging.\n",
       "BufferAssignment stats:\n",
       "             parameter allocation:    \u001b[1;36m7.\u001b[0m78MiB\n",
       "              constant allocation:         4B\n",
       "        maybe_live_out allocation:    \u001b[1;36m3.\u001b[0m85MiB\n",
       "     preallocated temp allocation:    \u001b[1;36m1.\u001b[0m27GiB\n",
       "  preallocated temp fragmentation:       480B \u001b[1m(\u001b[0m\u001b[1;36m0.00\u001b[0m%\u001b[1m)\u001b[0m\n",
       "                 total allocation:    \u001b[1;36m1.\u001b[0m28GiB\n",
       "              total fragmentation:     \u001b[1;36m1.\u001b[0m4KiB \u001b[1m(\u001b[0m\u001b[1;36m0.00\u001b[0m%\u001b[1m)\u001b[0m\n",
       "Peak buffers:\n",
       "        Buffer \u001b[1;36m1\u001b[0m:\n",
       "                Size: \u001b[1;36m433.\u001b[0m44MiB\n",
       "                Operator: \u001b[33mop_name\u001b[0m=\u001b[32m\"jit\u001b[0m\u001b[32m(\u001b[0m\u001b[32m_eval_constrained\u001b[0m\u001b[32m)\u001b[0m\u001b[32m/jit\u001b[0m\u001b[32m(\u001b[0m\u001b[32mmain\u001b[0m\u001b[32m)\u001b[0m\u001b[32m/reduce_sum\u001b[0m\u001b[32m[\u001b[0m\u001b[32maxes\u001b[0m\u001b[32m=\u001b[0m\u001b[32m(\u001b[0m\u001b[32m2,\u001b[0m\u001b[32m)\u001b[0m\u001b[32m]\u001b[0m\u001b[32m\"\u001b[0m \n",
       "\u001b[33msource_file\u001b[0m=\u001b[32m\"/home/ubuntu/workspace/genjax/src/genjax/_src/core/interpreters/context.py\"\u001b[0m \u001b[33msource_line\u001b[0m=\u001b[1;36m97\u001b[0m\n",
       "                XLA Label: fusion\n",
       "                Shape: f32\u001b[1m[\u001b[0m\u001b[1;36m101\u001b[0m,\u001b[1;36m5000\u001b[0m,\u001b[1;36m225\u001b[0m\u001b[1m]\u001b[0m\n",
       "                ==========================\n",
       "\n",
       "        Buffer \u001b[1;36m2\u001b[0m:\n",
       "                Size: \u001b[1;36m433.\u001b[0m44MiB\n",
       "                Operator: \u001b[33mop_name\u001b[0m=\u001b[32m\"jit\u001b[0m\u001b[32m(\u001b[0m\u001b[32m_eval_constrained\u001b[0m\u001b[32m)\u001b[0m\u001b[32m/jit\u001b[0m\u001b[32m(\u001b[0m\u001b[32mmain\u001b[0m\u001b[32m)\u001b[0m\u001b[32m/add\"\u001b[0m \n",
       "\u001b[33msource_file\u001b[0m=\u001b[32m\"/home/ubuntu/workspace/genjax/src/genjax/_src/core/interpreters/context.py\"\u001b[0m \u001b[33msource_line\u001b[0m=\u001b[1;36m97\u001b[0m\n",
       "                XLA Label: fusion\n",
       "                Shape: f32\u001b[1m[\u001b[0m\u001b[1;36m101\u001b[0m,\u001b[1;36m5000\u001b[0m,\u001b[1;36m225\u001b[0m\u001b[1m]\u001b[0m\n",
       "                ==========================\n",
       "\n",
       "        Buffer \u001b[1;36m3\u001b[0m:\n",
       "                Size: \u001b[1;36m433.\u001b[0m44MiB\n",
       "                Operator: \u001b[33mop_name\u001b[0m=\u001b[32m\"jit\u001b[0m\u001b[32m(\u001b[0m\u001b[32m_eval_constrained\u001b[0m\u001b[32m)\u001b[0m\u001b[32m/jit\u001b[0m\u001b[32m(\u001b[0m\u001b[32mmain\u001b[0m\u001b[32m)\u001b[0m\u001b[32m/dot_general\u001b[0m\u001b[32m[\u001b[0m\u001b[32mdimension_numbers\u001b[0m\u001b[32m=\u001b[0m\u001b[32m(\u001b[0m\u001b[32m(\u001b[0m\u001b[32m(\u001b[0m\u001b[32m3,\u001b[0m\u001b[32m)\u001b[0m\u001b[32m, \u001b[0m\u001b[32m(\u001b[0m\u001b[32m2,\u001b[0m\u001b[32m)\u001b[0m\u001b[32m)\u001b[0m\u001b[32m, \u001b[0m\n",
       "\u001b[32m(\u001b[0m\u001b[32m(\u001b[0m\u001b[32m0, 1\u001b[0m\u001b[32m)\u001b[0m\u001b[32m, \u001b[0m\u001b[32m(\u001b[0m\u001b[32m0, 1\u001b[0m\u001b[32m)\u001b[0m\u001b[32m)\u001b[0m\u001b[32m)\u001b[0m\u001b[32m \u001b[0m\u001b[32mprecision\u001b[0m\u001b[32m=\u001b[0m\u001b[32mNone\u001b[0m\u001b[32m \u001b[0m\u001b[32mpreferred_element_type\u001b[0m\u001b[32m=\u001b[0m\u001b[32mNone\u001b[0m\u001b[32m]\u001b[0m\u001b[32m\"\u001b[0m \n",
       "\u001b[33msource_file\u001b[0m=\u001b[32m\"/home/ubuntu/workspace/genjax/src/genjax/_src/core/interpreters/context.py\"\u001b[0m \u001b[33msource_line\u001b[0m=\u001b[1;36m97\u001b[0m\n",
       "                XLA Label: fusion\n",
       "                Shape: f32\u001b[1m[\u001b[0m\u001b[1;36m101\u001b[0m,\u001b[1;36m5000\u001b[0m,\u001b[1;36m225\u001b[0m\u001b[1m]\u001b[0m\n",
       "                ==========================\n",
       "\n",
       "        Buffer \u001b[1;36m4\u001b[0m:\n",
       "                Size: \u001b[1;36m7.\u001b[0m71MiB\n",
       "                Entry Parameter Subshape: f32\u001b[1m[\u001b[0m\u001b[1;36m101\u001b[0m,\u001b[1;36m50\u001b[0m,\u001b[1;36m100\u001b[0m,\u001b[1;36m4\u001b[0m\u001b[1m]\u001b[0m\n",
       "                ==========================\n",
       "\n",
       "        Buffer \u001b[1;36m5\u001b[0m:\n",
       "                Size: \u001b[1;36m1.\u001b[0m93MiB\n",
       "                Operator: \u001b[33mop_name\u001b[0m=\u001b[32m\"jit\u001b[0m\u001b[32m(\u001b[0m\u001b[32m_eval_constrained\u001b[0m\u001b[32m)\u001b[0m\u001b[32m/jit\u001b[0m\u001b[32m(\u001b[0m\u001b[32mmain\u001b[0m\u001b[32m)\u001b[0m\u001b[32m/reduce_sum\u001b[0m\u001b[32m[\u001b[0m\u001b[32maxes\u001b[0m\u001b[32m=\u001b[0m\u001b[32m(\u001b[0m\u001b[32m2,\u001b[0m\u001b[32m)\u001b[0m\u001b[32m]\u001b[0m\u001b[32m\"\u001b[0m \n",
       "\u001b[33msource_file\u001b[0m=\u001b[32m\"/home/ubuntu/workspace/genjax/src/genjax/_src/core/interpreters/context.py\"\u001b[0m \u001b[33msource_line\u001b[0m=\u001b[1;36m97\u001b[0m\n",
       "                XLA Label: fusion\n",
       "                Shape: f32\u001b[1m[\u001b[0m\u001b[1;36m101\u001b[0m,\u001b[1;36m5000\u001b[0m\u001b[1m]\u001b[0m\n",
       "                ==========================\n",
       "\n",
       "        Buffer \u001b[1;36m6\u001b[0m:\n",
       "                Size: \u001b[1;36m1.\u001b[0m93MiB\n",
       "                Operator: \n",
       "\u001b[33mop_name\u001b[0m=\u001b[32m\"jit\u001b[0m\u001b[32m(\u001b[0m\u001b[32m_eval_constrained\u001b[0m\u001b[32m)\u001b[0m\u001b[32m/jit\u001b[0m\u001b[32m(\u001b[0m\u001b[32mmain\u001b[0m\u001b[32m)\u001b[0m\u001b[32m/vmap\u001b[0m\u001b[32m(\u001b[0m\u001b[32mvmap\u001b[0m\u001b[32m(\u001b[0m\u001b[32mMixture\u001b[0m\u001b[32m)\u001b[0m\u001b[32m)\u001b[0m\u001b[32m/log_prob/MixtureSameFamily/log_prob/reduce_max\u001b[0m\u001b[32m[\u001b[0m\u001b[32maxes\u001b[0m\u001b[32m=\u001b[0m\u001b[32m(\u001b[0m\n",
       "\u001b[32m2,\u001b[0m\u001b[32m)\u001b[0m\u001b[32m]\u001b[0m\u001b[32m\"\u001b[0m \u001b[33msource_file\u001b[0m=\u001b[32m\"/home/ubuntu/workspace/genjax/src/genjax/_src/core/interpreters/context.py\"\u001b[0m \u001b[33msource_line\u001b[0m=\u001b[1;36m97\u001b[0m\n",
       "                XLA Label: reduce\n",
       "                Shape: f32\u001b[1m[\u001b[0m\u001b[1;36m101\u001b[0m,\u001b[1;36m5000\u001b[0m\u001b[1m]\u001b[0m\n",
       "                ==========================\n",
       "\n",
       "        Buffer \u001b[1;36m7\u001b[0m:\n",
       "                Size: \u001b[1;36m1.\u001b[0m93MiB\n",
       "                XLA Label: fusion\n",
       "                Shape: f32\u001b[1m[\u001b[0m\u001b[1;36m101\u001b[0m,\u001b[1;36m50\u001b[0m,\u001b[1;36m100\u001b[0m\u001b[1m]\u001b[0m\n",
       "                ==========================\n",
       "\n",
       "        Buffer \u001b[1;36m8\u001b[0m:\n",
       "                Size: \u001b[1;36m1.\u001b[0m93MiB\n",
       "                XLA Label: fusion\n",
       "                Shape: f32\u001b[1m[\u001b[0m\u001b[1;36m101\u001b[0m,\u001b[1;36m50\u001b[0m,\u001b[1;36m100\u001b[0m\u001b[1m]\u001b[0m\n",
       "                ==========================\n",
       "\n",
       "        Buffer \u001b[1;36m9\u001b[0m:\n",
       "                Size: \u001b[1;36m78.\u001b[0m1KiB\n",
       "                Entry Parameter Subshape: f32\u001b[1m[\u001b[0m\u001b[1;36m50\u001b[0m,\u001b[1;36m100\u001b[0m,\u001b[1;36m4\u001b[0m\u001b[1m]\u001b[0m\n",
       "                ==========================\n",
       "\n",
       "        Buffer \u001b[1;36m10\u001b[0m:\n",
       "                Size: \u001b[1;36m19.\u001b[0m5KiB\n",
       "                XLA Label: fusion\n",
       "                Shape: f32\u001b[1m[\u001b[0m\u001b[1;36m5000\u001b[0m\u001b[1m]\u001b[0m\n",
       "                ==========================\n",
       "\n",
       "        Buffer \u001b[1;36m11\u001b[0m:\n",
       "                Size: 404B\n",
       "                XLA Label: fusion\n",
       "                Shape: f32\u001b[1m[\u001b[0m\u001b[1;36m101\u001b[0m\u001b[1m]\u001b[0m\n",
       "                ==========================\n",
       "\n",
       "        Buffer \u001b[1;36m12\u001b[0m:\n",
       "                Size: 24B\n",
       "                XLA Label: tuple\n",
       "                Shape: \u001b[1m(\u001b[0mf32\u001b[1m[\u001b[0m\u001b[1;36m101\u001b[0m\u001b[1m]\u001b[0m, f32\u001b[1m[\u001b[0m\u001b[1;36m101\u001b[0m,\u001b[1;36m50\u001b[0m,\u001b[1;36m100\u001b[0m\u001b[1m]\u001b[0m, f32\u001b[1m[\u001b[0m\u001b[1;36m101\u001b[0m,\u001b[1;36m50\u001b[0m,\u001b[1;36m100\u001b[0m\u001b[1m]\u001b[0m\u001b[1m)\u001b[0m\n",
       "                ==========================\n",
       "\n",
       "        Buffer \u001b[1;36m13\u001b[0m:\n",
       "                Size: 16B\n",
       "                Operator: \u001b[33mop_name\u001b[0m=\u001b[32m\"jit\u001b[0m\u001b[32m(\u001b[0m\u001b[32m_eval_constrained\u001b[0m\u001b[32m)\u001b[0m\u001b[32m/jit\u001b[0m\u001b[32m(\u001b[0m\u001b[32mmain\u001b[0m\u001b[32m)\u001b[0m\u001b[32m/reduce_sum\u001b[0m\u001b[32m[\u001b[0m\u001b[32maxes\u001b[0m\u001b[32m=\u001b[0m\u001b[32m(\u001b[0m\u001b[32m2,\u001b[0m\u001b[32m)\u001b[0m\u001b[32m]\u001b[0m\u001b[32m\"\u001b[0m \n",
       "\u001b[33msource_file\u001b[0m=\u001b[32m\"/home/ubuntu/workspace/genjax/src/genjax/_src/core/interpreters/context.py\"\u001b[0m \u001b[33msource_line\u001b[0m=\u001b[1;36m97\u001b[0m\n",
       "                XLA Label: fusion\n",
       "                Shape: \u001b[1m(\u001b[0mf32\u001b[1m[\u001b[0m\u001b[1;36m101\u001b[0m,\u001b[1;36m5000\u001b[0m\u001b[1m]\u001b[0m, f32\u001b[1m[\u001b[0m\u001b[1;36m101\u001b[0m,\u001b[1;36m5000\u001b[0m,\u001b[1;36m225\u001b[0m\u001b[1m]\u001b[0m\u001b[1m)\u001b[0m\n",
       "                ==========================\n",
       "\n",
       "        Buffer \u001b[1;36m14\u001b[0m:\n",
       "                Size: 16B\n",
       "                Operator: \n",
       "\u001b[33mop_name\u001b[0m=\u001b[32m\"jit\u001b[0m\u001b[32m(\u001b[0m\u001b[32m_eval_constrained\u001b[0m\u001b[32m)\u001b[0m\u001b[32m/jit\u001b[0m\u001b[32m(\u001b[0m\u001b[32mmain\u001b[0m\u001b[32m)\u001b[0m\u001b[32m/vmap\u001b[0m\u001b[32m(\u001b[0m\u001b[32mvmap\u001b[0m\u001b[32m(\u001b[0m\u001b[32mMixture\u001b[0m\u001b[32m)\u001b[0m\u001b[32m)\u001b[0m\u001b[32m/log_prob/reduce_sum\u001b[0m\u001b[32m[\u001b[0m\u001b[32maxes\u001b[0m\u001b[32m=\u001b[0m\u001b[32m(\u001b[0m\u001b[32m0,\u001b[0m\u001b[32m)\u001b[0m\u001b[32m]\u001b[0m\u001b[32m\"\u001b[0m \n",
       "\u001b[33msource_file\u001b[0m=\u001b[32m\"/home/ubuntu/workspace/genjax/src/genjax/_src/core/interpreters/context.py\"\u001b[0m \u001b[33msource_line\u001b[0m=\u001b[1;36m97\u001b[0m\n",
       "                XLA Label: fusion\n",
       "                Shape: \u001b[1m(\u001b[0mf32\u001b[1m[\u001b[0m\u001b[1m]\u001b[0m, f32\u001b[1m[\u001b[0m\u001b[1;36m2\u001b[0m\u001b[1m]\u001b[0m\u001b[1m)\u001b[0m\n",
       "                ==========================\n",
       "\n",
       "        Buffer \u001b[1;36m15\u001b[0m:\n",
       "                Size: 16B\n",
       "                XLA Label: fusion\n",
       "                Shape: \u001b[1m(\u001b[0mf32\u001b[1m[\u001b[0m\u001b[1;36m101\u001b[0m,\u001b[1;36m50\u001b[0m,\u001b[1;36m100\u001b[0m\u001b[1m]\u001b[0m, f32\u001b[1m[\u001b[0m\u001b[1;36m101\u001b[0m\u001b[1m]\u001b[0m\u001b[1m)\u001b[0m\n",
       "                ==========================\n",
       "\n",
       "\n"
      ]
     },
     "metadata": {},
     "output_type": "display_data"
    }
   ],
   "source": [
    "sig     = 0.2\n",
    "outlier = 0.2\n",
    "\n",
    "\n",
    "X = Xs[i]\n",
    "a, a_ = eval_baseline(X, Xs, sig, outlier)\n",
    "b, b_, w_ = eval_constrained(X, Xs, sig, outlier)\n",
    "c = jnp.array([threedp3_likelihood(X, Y, sig**2, outlier, zmax, w) for Y in Xs])"
   ]
  },
  {
   "cell_type": "code",
   "execution_count": 40,
   "metadata": {},
   "outputs": [
    {
     "data": {
      "text/html": [
       "<pre style=\"white-space:pre;overflow-x:auto;line-height:normal;font-family:Menlo,'DejaVu Sans Mono',consolas,'Courier New',monospace\"><span style=\"font-weight: bold\">[&lt;</span><span style=\"color: #ff00ff; text-decoration-color: #ff00ff; font-weight: bold\">matplotlib.lines.Line2D</span><span style=\"color: #000000; text-decoration-color: #000000\"> object at </span><span style=\"color: #008080; text-decoration-color: #008080; font-weight: bold\">0x7fb58c07c6d0</span><span style=\"font-weight: bold\">&gt;]</span>\n",
       "</pre>\n"
      ],
      "text/plain": [
       "\u001b[1m[\u001b[0m\u001b[1m<\u001b[0m\u001b[1;95mmatplotlib.lines.Line2D\u001b[0m\u001b[39m object at \u001b[0m\u001b[1;36m0x7fb58c07c6d0\u001b[0m\u001b[1m>\u001b[0m\u001b[1m]\u001b[0m\n"
      ]
     },
     "metadata": {},
     "output_type": "display_data"
    },
    {
     "data": {
      "image/png": "[encoded data removed]"
     },
     "metadata": {},
     "output_type": "display_data"
    }
   ],
   "source": [
    "plt.figure(figsize=(5,1))\n",
    "plt.plot(b - c)\n",
    "plt.plot(a - c)"
   ]
  },
  {
   "cell_type": "code",
   "execution_count": 41,
   "metadata": {},
   "outputs": [
    {
     "data": {
      "text/html": [
       "<pre style=\"white-space:pre;overflow-x:auto;line-height:normal;font-family:Menlo,'DejaVu Sans Mono',consolas,'Courier New',monospace\"><span style=\"font-weight: bold\">[&lt;</span><span style=\"color: #ff00ff; text-decoration-color: #ff00ff; font-weight: bold\">matplotlib.lines.Line2D</span><span style=\"color: #000000; text-decoration-color: #000000\"> object at </span><span style=\"color: #008080; text-decoration-color: #008080; font-weight: bold\">0x7fb55ac15450</span><span style=\"font-weight: bold\">&gt;]</span>\n",
       "</pre>\n"
      ],
      "text/plain": [
       "\u001b[1m[\u001b[0m\u001b[1m<\u001b[0m\u001b[1;95mmatplotlib.lines.Line2D\u001b[0m\u001b[39m object at \u001b[0m\u001b[1;36m0x7fb55ac15450\u001b[0m\u001b[1m>\u001b[0m\u001b[1m]\u001b[0m\n"
      ]
     },
     "metadata": {},
     "output_type": "display_data"
    },
    {
     "data": {
      "image/png": "[encoded data removed]"
     },
     "metadata": {},
     "output_type": "display_data"
    }
   ],
   "source": [
    "plt.figure(figsize=(5,1))\n",
    "plt.plot(jnp.sum(b_ + w_, axis=(1,2)) - c)\n",
    "plt.plot(a - c)"
   ]
  },
  {
   "cell_type": "code",
   "execution_count": 42,
   "metadata": {},
   "outputs": [
    {
     "data": {
      "text/html": [
       "<pre style=\"white-space:pre;overflow-x:auto;line-height:normal;font-family:Menlo,'DejaVu Sans Mono',consolas,'Courier New',monospace\"><span style=\"font-weight: bold\">[&lt;</span><span style=\"color: #ff00ff; text-decoration-color: #ff00ff; font-weight: bold\">matplotlib.lines.Line2D</span><span style=\"color: #000000; text-decoration-color: #000000\"> object at </span><span style=\"color: #008080; text-decoration-color: #008080; font-weight: bold\">0x7fb55ab8abf0</span><span style=\"font-weight: bold\">&gt;]</span>\n",
       "</pre>\n"
      ],
      "text/plain": [
       "\u001b[1m[\u001b[0m\u001b[1m<\u001b[0m\u001b[1;95mmatplotlib.lines.Line2D\u001b[0m\u001b[39m object at \u001b[0m\u001b[1;36m0x7fb55ab8abf0\u001b[0m\u001b[1m>\u001b[0m\u001b[1m]\u001b[0m\n"
      ]
     },
     "metadata": {},
     "output_type": "display_data"
    },
    {
     "data": {
      "image/png": "[encoded data removed]"
     },
     "metadata": {},
     "output_type": "display_data"
    },
    {
     "data": {
      "image/png": "[encoded data removed]"
     },
     "metadata": {},
     "output_type": "display_data"
    },
    {
     "data": {
      "image/png": "[encoded data removed]"
     },
     "metadata": {},
     "output_type": "display_data"
    },
    {
     "data": {
      "image/png": "[encoded data removed]"
     },
     "metadata": {},
     "output_type": "display_data"
    },
    {
     "data": {
      "image/png": "[encoded data removed]"
     },
     "metadata": {},
     "output_type": "display_data"
    }
   ],
   "source": [
    "\n",
    "# ----------\n",
    "plt.figure(figsize=(4,1))\n",
    "plt.imshow(jnp.concatenate([Xs[i,:,:,2],Ys[i,:,:,2]], axis=1), vmax=6);\n",
    "# ----------\n",
    "plt.figure(figsize=(4,1))\n",
    "plt.imshow(jnp.concatenate([Xs[j,:,:,2],Ys[j,:,:,2]], axis=1), vmax=6);\n",
    "# ----------\n",
    "plt.figure(figsize=(4,1))\n",
    "plt.gca().set_aspect(1)\n",
    "plt.scatter(Xs[i,Xs.shape[1]//2,:,0],Xs[i,Xs.shape[1]//2,:,2], s=40);\n",
    "plt.scatter(Ys[i,Xs.shape[1]//2,:,0],Ys[i,Xs.shape[1]//2,:,2], s=10);\n",
    "\n",
    "# ----------\n",
    "plt.figure(figsize=(4,1))\n",
    "plt.imshow(jnp.concatenate([jnp.exp(w_[i]), jnp.exp(w_[j])], axis=1), vmax=4);\n",
    "# plt.imshow(jnp.concatenate([w_[i], w_[j]], axis=1));\n",
    "# ----------\n",
    "plt.figure(figsize=(4,1))\n",
    "plt.plot(jnp.exp(w_[i,w_.shape[1]//2]))\n",
    "plt.plot(jnp.exp(w_[j,w_.shape[1]//2]))\n",
    "# plt.plot(w_[i,w_.shape[1]//2])\n",
    "# plt.plot(w_[j,w_.shape[1]//2])\n"
   ]
  },
  {
   "cell_type": "code",
   "execution_count": 43,
   "metadata": {},
   "outputs": [
    {
     "name": "stdout",
     "output_type": "stream",
     "text": [
      "3.9788735 3.9788735\n",
      "3.9788735 3.9788735\n"
     ]
    },
    {
     "data": {
      "image/png": "[encoded data removed]"
     },
     "metadata": {},
     "output_type": "display_data"
    },
    {
     "data": {
      "image/png": "[encoded data removed]"
     },
     "metadata": {},
     "output_type": "display_data"
    }
   ],
   "source": [
    "# ----------\n",
    "plt.figure(figsize=(4,1))\n",
    "plt.imshow(jnp.concatenate([Xs[i,:,:,2],Xs[j,:,:,2]], axis=1), vmax=5);\n",
    "# ----------\n",
    "plt.figure(figsize=(4,1))\n",
    "plt.imshow(jnp.concatenate([jnp.exp(w_[i]), jnp.exp(w_[j])], axis=1));\n",
    "print(jnp.min(jnp.exp(w_[i])), jnp.max(jnp.exp(w_[i])))\n",
    "print(jnp.min(jnp.exp(w_[j])), jnp.max(jnp.exp(w_[j])))"
   ]
  },
  {
   "cell_type": "code",
   "execution_count": null,
   "metadata": {},
   "outputs": [],
   "source": []
  },
  {
   "cell_type": "code",
   "execution_count": null,
   "metadata": {},
   "outputs": [],
   "source": []
  }
 ],
 "metadata": {
  "kernelspec": {
   "display_name": "bayes3d",
   "language": "python",
   "name": "python3"
  },
  "language_info": {
   "codemirror_mode": {
    "name": "ipython",
    "version": 3
   },
   "file_extension": ".py",
   "mimetype": "text/x-python",
   "name": "python",
   "nbconvert_exporter": "python",
   "pygments_lexer": "ipython3",
   "version": "3.10.12"
  },
  "orig_nbformat": 4
 },
 "nbformat": 4,
 "nbformat_minor": 2
}
