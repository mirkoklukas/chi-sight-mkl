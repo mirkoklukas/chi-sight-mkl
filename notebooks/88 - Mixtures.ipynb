{
 "cells": [
  {
   "cell_type": "code",
   "execution_count": null,
   "metadata": {},
   "outputs": [],
   "source": [
    "#|default_exp mixtures"
   ]
  },
  {
   "cell_type": "code",
   "execution_count": 1,
   "metadata": {},
   "outputs": [],
   "source": [
    "#|export\n",
    "import jax\n",
    "import jax.numpy as jnp\n",
    "from jax import jit\n",
    "import genjax\n",
    "from genjax import gen\n",
    "from genjax.generative_functions.distributions import ExactDensity, Distribution\n",
    "from dataclasses import dataclass\n",
    "import numpy as np\n",
    "from functools import partial\n",
    "import matplotlib.pyplot as plt\n",
    "\n",
    "key = jax.random.PRNGKey(0)"
   ]
  },
  {
   "cell_type": "code",
   "execution_count": 3,
   "metadata": {},
   "outputs": [],
   "source": [
    "def viz_it(key, dist, args, N=1_000, bins=100):\n",
    "    _,key = jax.random.split(key)\n",
    "    n = len(args)\n",
    "    sample = jit(jax.vmap(dist.sample, (0,) +n*(None,)))\n",
    "    eval   = jit(jax.vmap(dist.logpdf, (0,) +n*(None,)))\n",
    "\n",
    "    \n",
    "    keys = jax.random.split(key, N)\n",
    "    ss = sample(keys, *args)\n",
    "\n",
    "    xs = jnp.linspace(jnp.min(ss)-1, jnp.max(ss)+1, 2_000)\n",
    "    ys = eval(xs, *args)\n",
    "\n",
    "    # -----------------\n",
    "    plt.figure(figsize=(5,2))\n",
    "    plt.title(f\"{dist.__class__.__name__}\")\n",
    "    plt.hist(ss, bins=bins, density=True, label=\"Sample\\nDensity\", color=\"C0\", alpha=0.5);\n",
    "    plt.plot(xs, jnp.exp(ys), label=\"PDF\", c=\"k\", linestyle=\"-\");\n",
    "    plt.legend();\n",
    "    plt.show()"
   ]
  },
  {
   "cell_type": "code",
   "execution_count": 5,
   "metadata": {},
   "outputs": [],
   "source": [
    "def _bench_it(key, sample, eval, args, M=None):\n",
    "\n",
    "    _,key = jax.random.split(key)\n",
    "\n",
    "    if M == None:\n",
    "\n",
    "        # Warmup\n",
    "        key, = jax.random.split(key,1);\n",
    "        x = sample(key, *args)\n",
    "        eval(x, *args)\n",
    "\n",
    "        # Benchmark\n",
    "        key, = jax.random.split(key,1);\n",
    "        t_sample = %timeit -o -q -r 1 -n 1 sample(key, *args);\n",
    "\n",
    "        x = sample(key, *args)\n",
    "        t_eval   = %timeit -o -q -r 1 -n 1 eval(x, *args);\n",
    "        \n",
    "\n",
    "    else:\n",
    "\n",
    "        # Warmup\n",
    "        keys = jax.random.split(key, M);\n",
    "        x = sample(keys, *args)\n",
    "        eval(x, *args)\n",
    "\n",
    "        # Benchmark\n",
    "        key, = jax.random.split(key,1);\n",
    "        keys = jax.random.split(key, M);\n",
    "        t_sample = %timeit -o -q -r 1 -n 1 sample(keys, *args);\n",
    "\n",
    "        x = sample(keys, *args)\n",
    "        t_eval   = %timeit -o -q -r 1 -n 1 eval(x, *args);\n",
    "    \n",
    "    # Print\n",
    "    print(f\" {t_sample}\")\n",
    "    print(f\" {t_eval}\")\n",
    "    print(\"\")\n",
    "\n",
    "    return t_sample, t_eval\n",
    "\n",
    "def bench_it(key, dist, args, M=10_000):\n",
    "    _,key = jax.random.split(key)\n",
    "    n = len(args)\n",
    "\n",
    "    print(f\"{dist.__class__.__name__} (Fixed Args)\")\n",
    "\n",
    "    #\n",
    "    # SINGLE\n",
    "    #\n",
    "    print(\"SINGLE\")\n",
    "    sample = dist.sample\n",
    "    eval   = dist.logpdf\n",
    "    _,key = jax.random.split(key)\n",
    "    _bench_it(key, sample, eval, args, M=None)\n",
    "\n",
    "\n",
    "\n",
    "    #\n",
    "    # SINGLE + JIT\n",
    "    #\n",
    "    print(\"SINGLE + JIT\")\n",
    "    sample = jit(dist.sample)\n",
    "    eval   = jit(dist.logpdf)\n",
    "    _,key = jax.random.split(key)\n",
    "    _bench_it(key, sample, eval, args, M=None)\n",
    "\n",
    "    #\n",
    "    # VMAP\n",
    "    #\n",
    "    print(\"VMAP\")\n",
    "    sample = jax.vmap(dist.sample, (0,) +n*(None,))\n",
    "    eval   = jax.vmap(dist.logpdf, (0,) +n*(None,))\n",
    "    _,key = jax.random.split(key)\n",
    "    _bench_it(key, sample, eval, args, M=M)\n",
    "\n",
    "    #\n",
    "    # VMAP + JIT\n",
    "    #\n",
    "    print(\"VMAP + JIT\")\n",
    "    sample = jit(jax.vmap(dist.sample, (0,) +n*(None,)))\n",
    "    eval   = jit(jax.vmap(dist.logpdf, (0,) +n*(None,)))\n",
    "    _,key = jax.random.split(key)\n",
    "    _bench_it(key, sample, eval, args, M=M)\n",
    "    "
   ]
  },
  {
   "cell_type": "markdown",
   "metadata": {},
   "source": [
    "## Mixtures\n",
    "\n",
    "### Heterogeneous Mixture"
   ]
  },
  {
   "cell_type": "code",
   "execution_count": 3,
   "metadata": {},
   "outputs": [],
   "source": [
    "#|export\n",
    "class HeterogeneousMixture(ExactDensity):\n",
    "    def __init__(self, dists, *args, **kwargs):        \n",
    "        assert isinstance(dists, list)\n",
    "        assert all([isinstance(d, Distribution) for d in dists])        \n",
    "\n",
    "        self.dists = dists\n",
    "        super().__init__(*args, **kwargs)\n",
    "\n",
    "    def sample(self, key, ws, args):\n",
    "        _,key = jax.random.split(key)\n",
    "        i = genjax.categorical.sample(key, jnp.array(ws))\n",
    "        key, = jax.random.split(key,1)\n",
    "\n",
    "        sampler = lambda d,a: lambda k: d.sample(k, *a)\n",
    "        distr_branches = [sampler(d,a) for d,a in zip(self.dists, args)]\n",
    "    \n",
    "        return jax.lax.switch(i, distr_branches, key)\n",
    "\n",
    "    def logpdf(self, x, ws, args):\n",
    "        logps  = jnp.array([d.logpdf(x, *a) for d,a in zip(self.dists, args)])\n",
    "        logps += jnp.log(ws)\n",
    "        logp  = jax.scipy.special.logsumexp(logps)\n",
    "        return logp\n",
    "    \n",
    "    def flatten(self):\n",
    "        return (self.dists,), ()\n",
    "    \n",
    "    def __str__(self):\n",
    "        s = \", \".join([\n",
    "            f\"{str(d):.12s}{'.'*3*(len(str(d))>12)}\" \n",
    "                for d in self.dists])\n",
    "        return f\"HeterogeneousMixture({s})\""
   ]
  },
  {
   "cell_type": "code",
   "execution_count": 8,
   "metadata": {},
   "outputs": [
    {
     "data": {
      "image/png": "[encoded data removed]",
      "text/plain": [
       "<Figure size 500x200 with 1 Axes>"
      ]
     },
     "metadata": {},
     "output_type": "display_data"
    },
    {
     "name": "stdout",
     "output_type": "stream",
     "text": [
      "HeterogeneousMixture (Fixed Args)\n",
      "SINGLE\n",
      " 210 ms ± 0 ns per loop (mean ± std. dev. of 1 run, 1 loop each)\n",
      " 8.99 ms ± 0 ns per loop (mean ± std. dev. of 1 run, 1 loop each)\n",
      "\n",
      "SINGLE + JIT\n",
      " 205 µs ± 0 ns per loop (mean ± std. dev. of 1 run, 1 loop each)\n",
      " 125 µs ± 0 ns per loop (mean ± std. dev. of 1 run, 1 loop each)\n",
      "\n",
      "VMAP\n",
      " 49.2 ms ± 0 ns per loop (mean ± std. dev. of 1 run, 1 loop each)\n",
      " 28.8 ms ± 0 ns per loop (mean ± std. dev. of 1 run, 1 loop each)\n",
      "\n",
      "VMAP + JIT\n",
      " 162 µs ± 0 ns per loop (mean ± std. dev. of 1 run, 1 loop each)\n",
      " 152 µs ± 0 ns per loop (mean ± std. dev. of 1 run, 1 loop each)\n",
      "\n"
     ]
    }
   ],
   "source": [
    "mix  = HeterogeneousMixture([genjax.normal, genjax.tfp_uniform])\n",
    "\n",
    "ws   = jnp.array([0.5, 0.5])\n",
    "args = [\n",
    "    jnp.array([-1.0, .5]), \n",
    "    jnp.array([1.0, 2.0])\n",
    "]\n",
    "\n",
    "viz_it(key, mix, (ws,args), N=1_000, bins=100)\n",
    "bench_it(key, mix, (ws,args), M=1_000)"
   ]
  },
  {
   "cell_type": "code",
   "execution_count": 9,
   "metadata": {},
   "outputs": [
    {
     "data": {
      "image/png": "[encoded data removed]",
      "text/plain": [
       "<Figure size 500x200 with 1 Axes>"
      ]
     },
     "metadata": {},
     "output_type": "display_data"
    },
    {
     "name": "stdout",
     "output_type": "stream",
     "text": [
      "HeterogeneousMixture (Fixed Args)\n",
      "SINGLE\n",
      " 303 ms ± 0 ns per loop (mean ± std. dev. of 1 run, 1 loop each)\n",
      " 11.2 ms ± 0 ns per loop (mean ± std. dev. of 1 run, 1 loop each)\n",
      "\n",
      "SINGLE + JIT\n",
      " 215 µs ± 0 ns per loop (mean ± std. dev. of 1 run, 1 loop each)\n",
      " 118 µs ± 0 ns per loop (mean ± std. dev. of 1 run, 1 loop each)\n",
      "\n",
      "VMAP\n",
      " 96.5 ms ± 0 ns per loop (mean ± std. dev. of 1 run, 1 loop each)\n",
      " 45.2 ms ± 0 ns per loop (mean ± std. dev. of 1 run, 1 loop each)\n",
      "\n",
      "VMAP + JIT\n",
      " 185 µs ± 0 ns per loop (mean ± std. dev. of 1 run, 1 loop each)\n",
      " 136 µs ± 0 ns per loop (mean ± std. dev. of 1 run, 1 loop each)\n",
      "\n"
     ]
    }
   ],
   "source": [
    "mix  = HeterogeneousMixture([\n",
    "    genjax.normal,\n",
    "    genjax.tfp_uniform,\n",
    "    genjax.tfp_uniform,\n",
    "    genjax.tfp_uniform\n",
    "])\n",
    "\n",
    "assert isinstance(mix, Distribution)\n",
    "assert isinstance(mix, ExactDensity)\n",
    "\n",
    "ws   = jnp.array([0.25, 0.25, .25, .25])\n",
    "args = [ \n",
    "    jnp.array([-1.0, .5]), \n",
    "    jnp.array([1.1, 2.0]),\n",
    "    jnp.array([2.1, 3.0]),\n",
    "    jnp.array([3.1, 4.0])\n",
    "]\n",
    "\n",
    "viz_it(key, mix, (ws,args), N=1_000, bins=100)\n",
    "bench_it(key, mix, (ws,args), M=1_000)"
   ]
  },
  {
   "cell_type": "code",
   "execution_count": 10,
   "metadata": {},
   "outputs": [
    {
     "data": {
      "image/png": "[encoded data removed]",
      "text/plain": [
       "<Figure size 500x200 with 1 Axes>"
      ]
     },
     "metadata": {},
     "output_type": "display_data"
    },
    {
     "name": "stdout",
     "output_type": "stream",
     "text": [
      "TFPMixture (Fixed Args)\n",
      "SINGLE\n",
      " 40.7 ms ± 0 ns per loop (mean ± std. dev. of 1 run, 1 loop each)\n",
      " 17.6 ms ± 0 ns per loop (mean ± std. dev. of 1 run, 1 loop each)\n",
      "\n",
      "SINGLE + JIT\n",
      " 191 µs ± 0 ns per loop (mean ± std. dev. of 1 run, 1 loop each)\n",
      " 123 µs ± 0 ns per loop (mean ± std. dev. of 1 run, 1 loop each)\n",
      "\n",
      "VMAP\n",
      " 76.2 ms ± 0 ns per loop (mean ± std. dev. of 1 run, 1 loop each)\n",
      " 51.1 ms ± 0 ns per loop (mean ± std. dev. of 1 run, 1 loop each)\n",
      "\n",
      "VMAP + JIT\n",
      " 201 µs ± 0 ns per loop (mean ± std. dev. of 1 run, 1 loop each)\n",
      " 135 µs ± 0 ns per loop (mean ± std. dev. of 1 run, 1 loop each)\n",
      "\n"
     ]
    }
   ],
   "source": [
    "mix = genjax.tfp_mixture(genjax.tfp_categorical, [\n",
    "    genjax.tfp_normal, \n",
    "    genjax.tfp_uniform,\n",
    "    genjax.tfp_uniform,\n",
    "    genjax.tfp_uniform\n",
    "])\n",
    "ws   = jnp.array([0.25, 0.25, .25, .25])\n",
    "args = [ \n",
    "    jnp.array([-1.0, .5]), \n",
    "    jnp.array([1.1, 2.0]),\n",
    "    jnp.array([2.1, 3.0]),\n",
    "    jnp.array([3.1, 4.0])\n",
    "]\n",
    "\n",
    "\n",
    "viz_it(key, mix, (ws,args), N=1_000, bins=100)\n",
    "bench_it(key, mix, (ws,args), M=1_000)"
   ]
  },
  {
   "cell_type": "markdown",
   "metadata": {},
   "source": [
    "## Homogeneous Mixture"
   ]
  },
  {
   "cell_type": "code",
   "execution_count": 11,
   "metadata": {},
   "outputs": [],
   "source": [
    "class HomogeneousMixture(ExactDensity):\n",
    "    def __init__(self, dist, *args, **kwargs):\n",
    "        assert isinstance(dist, Distribution)\n",
    "        self.dist = dist\n",
    "        super().__init__(*args, **kwargs)\n",
    "\n",
    "    def sample(self, key, ws, args):\n",
    "        _,key = jax.random.split(key)\n",
    "        i = genjax.categorical.sample(key, ws)\n",
    "        key, = jax.random.split(key,1)\n",
    "        return self.dist.sample(key, *args[i])\n",
    "\n",
    "    def logpdf(self, x, ws, args):\n",
    "        n = len(args.T)\n",
    "\n",
    "        logps = jax.vmap(self.dist.logpdf, (None,) + n*(0,))(x, *args.T)\n",
    "        logp = jax.scipy.special.logsumexp(logps + jnp.log(ws))\n",
    "        return logp\n",
    "    \n",
    "\n",
    "    def flatten(self):\n",
    "        return (self.dist,), ()\n",
    "\n",
    "\n",
    "    def __str__(self):\n",
    "        s = str(self.dist)\n",
    "        too_long = len(s) > 12\n",
    "        return f\"HomogeneousMixture({s:.12s}{'.'*3*(too_long)})\""
   ]
  },
  {
   "cell_type": "code",
   "execution_count": 12,
   "metadata": {},
   "outputs": [
    {
     "data": {
      "image/png": "[encoded data removed]",
      "text/plain": [
       "<Figure size 500x200 with 1 Axes>"
      ]
     },
     "metadata": {},
     "output_type": "display_data"
    },
    {
     "name": "stdout",
     "output_type": "stream",
     "text": [
      "HomogeneousMixture (Fixed Args)\n",
      "SINGLE\n",
      " 4.43 ms ± 0 ns per loop (mean ± std. dev. of 1 run, 1 loop each)\n",
      " 11.7 ms ± 0 ns per loop (mean ± std. dev. of 1 run, 1 loop each)\n",
      "\n",
      "SINGLE + JIT\n",
      " 159 µs ± 0 ns per loop (mean ± std. dev. of 1 run, 1 loop each)\n",
      " 98.2 µs ± 0 ns per loop (mean ± std. dev. of 1 run, 1 loop each)\n",
      "\n",
      "VMAP\n",
      " 17.3 ms ± 0 ns per loop (mean ± std. dev. of 1 run, 1 loop each)\n",
      " 20.7 ms ± 0 ns per loop (mean ± std. dev. of 1 run, 1 loop each)\n",
      "\n",
      "VMAP + JIT\n",
      " 162 µs ± 0 ns per loop (mean ± std. dev. of 1 run, 1 loop each)\n",
      " 108 µs ± 0 ns per loop (mean ± std. dev. of 1 run, 1 loop each)\n",
      "\n"
     ]
    }
   ],
   "source": [
    "mix  = HomogeneousMixture(genjax.normal)\n",
    "\n",
    "assert isinstance(mix, Distribution)\n",
    "assert isinstance(mix, ExactDensity)\n",
    "\n",
    "\n",
    "key, = jax.random.split(key,1)\n",
    "n = 10\n",
    "ws   = jnp.ones(n)/n\n",
    "args = jax.random.uniform(key, (n,2))\n",
    "args = jnp.stack([3*(args[:,0]-0.5), 0.1*args[:,1]], axis=1)\n",
    "\n",
    "viz_it(key, mix, (ws,args), N=2_000, bins=100)\n",
    "bench_it(key, mix, (ws,args), M=1_000)"
   ]
  },
  {
   "cell_type": "code",
   "execution_count": 13,
   "metadata": {},
   "outputs": [
    {
     "data": {
      "text/plain": [
       "BuiltinTrace(gen_fn=BuiltinGenerativeFunction(source=<function func at 0x7f5190253790>), args=(Array([7.000265 , 5.3561115, 6.1319017, 4.2216325, 9.748488 , 6.786708 ,\n",
       "       5.868056 , 4.818392 , 1.5345144, 7.691861 ], dtype=float32), Array([0.7000265 , 0.53561115, 0.6131902 , 0.42216325, 0.97484887,\n",
       "       0.67867076, 0.5868056 , 0.48183918, 0.15345144, 0.76918614],      dtype=float32)), retval=Array(6.227598, dtype=float32), choices=Trie(inner={'x': DistributionTrace(gen_fn=HomogeneousMixture(), args=(Array([0.1, 0.1, 0.1, 0.1, 0.1, 0.1, 0.1, 0.1, 0.1, 0.1], dtype=float32), Array([[7.000265  , 0.7000265 ],\n",
       "       [5.3561115 , 0.53561115],\n",
       "       [6.1319017 , 0.6131902 ],\n",
       "       [4.2216325 , 0.42216325],\n",
       "       [9.748488  , 0.97484887],\n",
       "       [6.786708  , 0.67867076],\n",
       "       [5.868056  , 0.5868056 ],\n",
       "       [4.818392  , 0.48183918],\n",
       "       [1.5345144 , 0.15345144],\n",
       "       [7.691861  , 0.76918614]], dtype=float32)), value=Array(6.227598, dtype=float32), score=Array(-1.7114187, dtype=float32))}), cache=Trie(inner={}), score=Array(-1.7114187, dtype=float32))"
      ]
     },
     "execution_count": 13,
     "metadata": {},
     "output_type": "execute_result"
    }
   ],
   "source": [
    "mix = HomogeneousMixture(genjax.normal)\n",
    "\n",
    "@genjax.gen\n",
    "def func(mus, sigs):\n",
    "    args = jnp.stack([mus, sigs], axis=1)\n",
    "    ws = jnp.ones(len(args))/len(args)\n",
    "    \n",
    "    x = HomogeneousMixture(genjax.normal)(ws, args) @ \"x\"\n",
    "    return x\n",
    "\n",
    "mus  = 10*jax.random.uniform(key, (n,))\n",
    "sigs = jax.random.uniform(key, (n,))\n",
    "\n",
    "key, tr = func.simulate(key, (mus, sigs))\n",
    "tr\n"
   ]
  },
  {
   "cell_type": "markdown",
   "metadata": {},
   "source": [
    "## Products"
   ]
  },
  {
   "cell_type": "markdown",
   "metadata": {},
   "source": [
    "### Homogeneous Product"
   ]
  },
  {
   "cell_type": "code",
   "execution_count": 14,
   "metadata": {},
   "outputs": [],
   "source": [
    "class HomogeneousProduct(ExactDensity):\n",
    "    def __init__(self, dist, *args, **kwargs):\n",
    "        self.dist = dist\n",
    "        super().__init__(*args, **kwargs)\n",
    "\n",
    "    def sample(self, key, args):\n",
    "        keys = jax.random.split(key, len(args))\n",
    "        return jax.vmap(self.dist.sample)(keys, *args.T)\n",
    "\n",
    "    def logpdf(self, xs, args):\n",
    "        return jnp.sum(jax.vmap(self.dist.logpdf)(xs, *args.T))\n",
    "    \n",
    "    def flatten(self):\n",
    "        return (self.dist,), ()\n",
    "\n",
    "        \n",
    "class Product(object):\n",
    "   def __new__(self, D, *args, **kwargs):\n",
    "        if isinstance(D, Distribution):\n",
    "            return HomogeneousProduct(D, *args, **kwargs)\n",
    "        else:\n",
    "            raise NotImplementedError(\"Heterogeneous products not implemented yet\")"
   ]
  },
  {
   "cell_type": "code",
   "execution_count": 15,
   "metadata": {},
   "outputs": [],
   "source": [
    "\n",
    "def HomogeneousProduct(dist):\n",
    "    class X(ExactDensity):\n",
    "        def sample(self, key, args):\n",
    "            keys = jax.random.split(key, len(args))\n",
    "            return jax.vmap(dist.sample)(keys, *args.T)\n",
    "\n",
    "        def logpdf(self, xs, args):\n",
    "            return jnp.sum(jax.vmap(dist.logpdf)(xs, *args.T))\n",
    "        \n",
    "        # def flatten(self):\n",
    "            # return (self.dist,), ()\n",
    "\n",
    "    return X()\n",
    "        \n",
    "class Product(object):\n",
    "   def __new__(self, D, *args, **kwargs):\n",
    "        if isinstance(D, Distribution):\n",
    "            return HomogeneousProduct(D, *args, **kwargs)\n",
    "        else:\n",
    "            raise NotImplementedError(\"Heterogeneous products not implemented yet\")"
   ]
  },
  {
   "cell_type": "code",
   "execution_count": 16,
   "metadata": {},
   "outputs": [
    {
     "name": "stdout",
     "output_type": "stream",
     "text": [
      "X (Fixed Args)\n",
      "SINGLE\n",
      " 3.99 ms ± 0 ns per loop (mean ± std. dev. of 1 run, 1 loop each)\n",
      " 8.88 ms ± 0 ns per loop (mean ± std. dev. of 1 run, 1 loop each)\n",
      "\n",
      "SINGLE + JIT\n",
      " 139 µs ± 0 ns per loop (mean ± std. dev. of 1 run, 1 loop each)\n",
      " 96.7 µs ± 0 ns per loop (mean ± std. dev. of 1 run, 1 loop each)\n",
      "\n",
      "VMAP\n",
      " 6.79 ms ± 0 ns per loop (mean ± std. dev. of 1 run, 1 loop each)\n",
      " 12.2 ms ± 0 ns per loop (mean ± std. dev. of 1 run, 1 loop each)\n",
      "\n",
      "VMAP + JIT\n",
      " 138 µs ± 0 ns per loop (mean ± std. dev. of 1 run, 1 loop each)\n",
      " 90.6 µs ± 0 ns per loop (mean ± std. dev. of 1 run, 1 loop each)\n",
      "\n"
     ]
    }
   ],
   "source": [
    "prod = HomogeneousProduct(genjax.normal)\n",
    "\n",
    "n = 100**2\n",
    "key, = jax.random.split(key,1)\n",
    "args = jax.random.uniform(key, (n,2))\n",
    "\n",
    "bench_it(key, prod, [args], M=1_000)"
   ]
  },
  {
   "cell_type": "code",
   "execution_count": 17,
   "metadata": {},
   "outputs": [
    {
     "data": {
      "text/plain": [
       "True"
      ]
     },
     "execution_count": 17,
     "metadata": {},
     "output_type": "execute_result"
    }
   ],
   "source": [
    "prod = HomogeneousProduct(genjax.normal)\n",
    "isinstance(prod, ExactDensity)"
   ]
  },
  {
   "cell_type": "code",
   "execution_count": 18,
   "metadata": {},
   "outputs": [
    {
     "data": {
      "text/plain": [
       "(Array([1275157301, 3903859326], dtype=uint32),\n",
       " BuiltinTrace(gen_fn=BuiltinGenerativeFunction(source=<function func at 0x7f51900e05e0>), args=(Array([[0.94757867, 0.61204123],\n",
       "        [0.77032506, 0.2566532 ],\n",
       "        [0.14849663, 0.7565422 ],\n",
       "        ...,\n",
       "        [0.12152672, 0.04980993],\n",
       "        [0.65256345, 0.43836212],\n",
       "        [0.9657799 , 0.39965284]], dtype=float32),), retval=Array([0.84530926, 1.5368937 , 0.11048913, ..., 0.11828105, 1.2677121 ,\n",
       "        0.43974388], dtype=float32), choices=Trie(inner={'x': DistributionTrace(gen_fn=HomogeneousProduct.<locals>.X(), args=(Array([[0.94757867, 0.61204123],\n",
       "        [0.77032506, 0.2566532 ],\n",
       "        [0.14849663, 0.7565422 ],\n",
       "        ...,\n",
       "        [0.12152672, 0.04980993],\n",
       "        [0.65256345, 0.43836212],\n",
       "        [0.9657799 , 0.39965284]], dtype=float32),), value=Array([0.84530926, 1.5368937 , 0.11048913, ..., 0.11828105, 1.2677121 ,\n",
       "        0.43974388], dtype=float32), score=Array(-10248.263, dtype=float32))}), cache=Trie(inner={}), score=Array(-10248.263, dtype=float32)))"
      ]
     },
     "execution_count": 18,
     "metadata": {},
     "output_type": "execute_result"
    }
   ],
   "source": [
    "@genjax.gen\n",
    "def func(args):\n",
    "    x = prod(args) @ \"x\"\n",
    "    return x\n",
    "\n",
    "n = 100**2\n",
    "key, = jax.random.split(key,1)\n",
    "args = jax.random.uniform(key, (n,2))\n",
    "key = jax.random.split(key,1)[0]\n",
    "\n",
    "func.simulate(key, (args,))"
   ]
  },
  {
   "cell_type": "code",
   "execution_count": 19,
   "metadata": {},
   "outputs": [
    {
     "data": {
      "text/plain": [
       "Array(-3.4395335, dtype=float32)"
      ]
     },
     "execution_count": 19,
     "metadata": {},
     "output_type": "execute_result"
    }
   ],
   "source": [
    "from genjax._src.generative_functions.distributions.distribution import Product\n",
    "\n",
    "n = 4\n",
    "key, = jax.random.split(key,1)\n",
    "args = jax.random.uniform(key, (n,2))\n",
    "\n",
    "\n",
    "prod = Product.new(*[genjax.normal]*len(args))\n",
    "_,(tw,r) = prod.random_weighted(key, *args)\n",
    "tw"
   ]
  },
  {
   "cell_type": "markdown",
   "metadata": {},
   "source": [
    "### Heterogeneous Product - TODO"
   ]
  }
 ],
 "metadata": {
  "kernelspec": {
   "display_name": "bayes3d",
   "language": "python",
   "name": "python3"
  },
  "language_info": {
   "codemirror_mode": {
    "name": "ipython",
    "version": 3
   },
   "file_extension": ".py",
   "mimetype": "text/x-python",
   "name": "python",
   "nbconvert_exporter": "python",
   "pygments_lexer": "ipython3",
   "version": "3.9.16"
  },
  "orig_nbformat": 4
 },
 "nbformat": 4,
 "nbformat_minor": 2
}
