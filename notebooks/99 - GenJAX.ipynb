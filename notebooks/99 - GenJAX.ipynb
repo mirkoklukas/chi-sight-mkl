{
 "cells": [
  {
   "cell_type": "code",
   "execution_count": 3,
   "metadata": {},
   "outputs": [],
   "source": [
    "import jax\n",
    "import jax.numpy as jnp\n",
    "from jax import (jit, vmap)\n",
    "import genjax\n",
    "from genjax import gen, choice_map, vector_choice_map\n",
    "import matplotlib.pyplot as plt\n",
    "import numpy as np\n",
    "import bayes3d\n",
    "from xsight.utils import *\n",
    "\n",
    "console = genjax.pretty(show_locals=False)\n",
    "key     = jax.random.PRNGKey(0)\n",
    "\n",
    "\n",
    "import genjax._src.generative_functions.distributions.tensorflow_probability as gentfp\n",
    "import tensorflow_probability.substrates.jax as tfp\n",
    "tfd = tfp.distributions\n",
    "\n",
    "\n"
   ]
  },
  {
   "cell_type": "code",
   "execution_count": 6,
   "metadata": {},
   "outputs": [],
   "source": [
    "normal = gentfp.TFPDistribution(\n",
    "    lambda mu, sig: tfd.Normal(mu, sig));"
   ]
  },
  {
   "cell_type": "code",
   "execution_count": null,
   "metadata": {},
   "outputs": [],
   "source": []
  },
  {
   "cell_type": "code",
   "execution_count": 111,
   "metadata": {},
   "outputs": [
    {
     "data": {
      "text/html": [
       "<pre style=\"white-space:pre;overflow-x:auto;line-height:normal;font-family:Menlo,'DejaVu Sans Mono',consolas,'Courier New',monospace\"><span style=\"color: #800080; text-decoration-color: #800080; font-weight: bold\">Array</span><span style=\"font-weight: bold\">(</span><span style=\"color: #00ff00; text-decoration-color: #00ff00; font-style: italic\">True</span>, <span style=\"color: #808000; text-decoration-color: #808000\">dtype</span>=<span style=\"color: #800080; text-decoration-color: #800080\">bool</span><span style=\"font-weight: bold\">)</span>\n",
       "</pre>\n"
      ],
      "text/plain": [
       "\u001b[1;35mArray\u001b[0m\u001b[1m(\u001b[0m\u001b[3;92mTrue\u001b[0m, \u001b[33mdtype\u001b[0m=\u001b[35mbool\u001b[0m\u001b[1m)\u001b[0m\n"
      ]
     },
     "metadata": {},
     "output_type": "display_data"
    }
   ],
   "source": [
    "n = 100\n",
    "x   = np.random.randn(n)\n",
    "mu  = np.random.randn(n)\n",
    "std = np.random.rand(n)\n",
    "\n",
    "z = (x - mu) / std\n",
    "\n",
    "reference       = jax.scipy.stats.norm.logpdf(x, mu, std)\n",
    "currently_wrong = genjax.normal.logpdf(x, mu, std)\n",
    "corrected       = - jnp.log(std) - 1/2*jnp.log(2*jnp.pi) - 1/2*z**2\n",
    "\n",
    "\n",
    "err_curr = jnp.abs(reference - currently_wrong)\n",
    "err_new  = jnp.abs(reference - corrected)\n",
    "\n",
    "jnp.mean(err_curr) > jnp.mean(err_new)"
   ]
  },
  {
   "cell_type": "code",
   "execution_count": null,
   "metadata": {},
   "outputs": [],
   "source": []
  },
  {
   "cell_type": "code",
   "execution_count": 28,
   "metadata": {},
   "outputs": [
    {
     "name": "stdout",
     "output_type": "stream",
     "text": [
      "-4.2323127 -4.232313 -3.9645147\n",
      "-25.195698 -25.195692 -13.407859\n",
      "-590.7481 -590.7481 -264.862\n",
      "-1.0462453 -1.046245 -1.4027895\n",
      "-8.370258 -8.370258 -6.957136\n",
      "-2.7706678 -2.770668 -2.5238276\n",
      "-1.204403 -1.2044029 -1.2353776\n",
      "-339.058 -339.05807 -130.19713\n",
      "-6.3698573 -6.369858 -5.4103746\n",
      "-0.89166623 -0.8916662 -0.99839085\n"
     ]
    }
   ],
   "source": [
    "for _ in range(10):\n",
    "    x   = np.random.randn()\n",
    "    mu  = np.random.randn()\n",
    "    std = np.random.rand()\n",
    "\n",
    "    \n",
    "    g  = -1.0 * (jnp.square(jnp.abs(z)) + jnp.log(2.0 * jnp.pi)) / (2 - jnp.log(std))\n",
    "    \n",
    "    print(,g_, g)\n"
   ]
  },
  {
   "cell_type": "code",
   "execution_count": 15,
   "metadata": {},
   "outputs": [
    {
     "name": "stdout",
     "output_type": "stream",
     "text": [
      "Integral (scipy) : 1.001357078552246\n",
      "Integral (genjax): 0.7360198497772217\n",
      "Integral (tfp)   : 1.001357078552246\n"
     ]
    },
    {
     "data": {
      "image/png": "[encoded data removed]"
     },
     "metadata": {},
     "output_type": "display_data"
    }
   ],
   "source": [
    "xs = jnp.linspace(-20, 20, 1_000_000)\n",
    "dx =xs[1] - xs[0]\n",
    "\n",
    "\n",
    "mu  = 0.0\n",
    "sig = .5\n",
    "\n",
    "ys1 = vmap(lambda x: jax.scipy.stats.norm.logpdf( x, mu, sig))(xs)\n",
    "ys2 = vmap(lambda x: genjax.normal.logpdf(x, mu, sig))(xs)\n",
    "ys3 = vmap(lambda x: normal.logpdf(x, mu, sig))(xs)\n",
    "\n",
    "print(f\"Integral (scipy) : {jnp.sum(jnp.exp(ys1)*dx)}\")\n",
    "print(f\"Integral (genjax): {jnp.sum(jnp.exp(ys2)*dx)}\")\n",
    "print(f\"Integral (tfp)   : {jnp.sum(jnp.exp(ys3)*dx)}\")\n",
    "\n",
    "plt.plot(xs, jnp.exp(ys1), label=\"scipy\")\n",
    "plt.plot(xs, jnp.exp(ys2), label=\"genjax\")\n",
    "plt.plot(xs, jnp.exp(ys3), label=\"TFP\")\n",
    "plt.legend()"
   ]
  },
  {
   "cell_type": "code",
   "execution_count": null,
   "metadata": {},
   "outputs": [],
   "source": []
  }
 ],
 "metadata": {
  "kernelspec": {
   "display_name": "bayes3d",
   "language": "python",
   "name": "python3"
  },
  "language_info": {
   "codemirror_mode": {
    "name": "ipython",
    "version": 3
   },
   "file_extension": ".py",
   "mimetype": "text/x-python",
   "name": "python",
   "nbconvert_exporter": "python",
   "pygments_lexer": "ipython3",
   "version": "3.9.16"
  },
  "orig_nbformat": 4
 },
 "nbformat": 4,
 "nbformat_minor": 2
}
