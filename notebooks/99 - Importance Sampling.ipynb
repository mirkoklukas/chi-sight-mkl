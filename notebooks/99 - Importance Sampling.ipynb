{
 "cells": [
  {
   "cell_type": "markdown",
   "metadata": {},
   "source": [
    "# GenJAXjl &mdash; Importance Sampling"
   ]
  },
  {
   "cell_type": "code",
   "execution_count": 1,
   "metadata": {},
   "outputs": [],
   "source": [
    "#|default_exp importance"
   ]
  },
  {
   "cell_type": "code",
   "execution_count": 2,
   "metadata": {},
   "outputs": [],
   "source": [
    "#|export\n",
    "import genjax\n",
    "from genjax import gen\n",
    "import jax.numpy as jnp\n",
    "import jax\n",
    "from jax import jit, vmap"
   ]
  },
  {
   "cell_type": "code",
   "execution_count": 3,
   "metadata": {},
   "outputs": [],
   "source": [
    "console = genjax.pretty(show_locals=False)"
   ]
  },
  {
   "cell_type": "code",
   "execution_count": 4,
   "metadata": {},
   "outputs": [],
   "source": [
    "#|export\n",
    "def keysplit(key, *ns):\n",
    "    if len(ns) == 0:\n",
    "        return jax.random.split(key, 1)[0]\n",
    "    \n",
    "    if len(ns) == 1:\n",
    "        return jax.random.split(key, ns[0])\n",
    "    else:\n",
    "\n",
    "        keys = []\n",
    "        for n in ns:\n",
    "            if n == 1: keys.append(jax.random.split(key, 1)[0])\n",
    "            else: keys.append(jax.random.split(key, n))\n",
    "\n",
    "        return keys"
   ]
  },
  {
   "cell_type": "code",
   "execution_count": 5,
   "metadata": {},
   "outputs": [],
   "source": [
    "#|export\n",
    "logsumexp = jax.scipy.special.logsumexp\n",
    "vmap      = jax.vmap"
   ]
  },
  {
   "cell_type": "code",
   "execution_count": 6,
   "metadata": {},
   "outputs": [],
   "source": [
    "#|export\n",
    "#\n",
    "# Gen.jl style ordering of the args and return values\n",
    "#\n",
    "def _merge(x,y): return x.merge(y)\n",
    "\n",
    "\n",
    "def _simulate(key, model, args):\n",
    "    return model.simulate(key, args)\n",
    "\n",
    "\n",
    "def _propose(key, model, args):\n",
    "    tr = model.simulate(key, args)\n",
    "    # Note: `strip` returns a stripped choice map\n",
    "    return (tr.strip(), tr.get_score(), tr.get_retval())\n",
    "\n",
    "\n",
    "def _generate(key, model, args, constr):\n",
    "    (w, tr) = model.importance(key, constr, args)\n",
    "    return (tr, w)\n",
    "\n",
    "\n",
    "def _importance_sampling(key, \n",
    "                        model, args, obs, \n",
    "                        proposal, proposal_args,   \n",
    "                        N:int):\n",
    "    \"\"\"\n",
    "    Importance sampling with custom proposal \n",
    "\n",
    "    Usage:\n",
    "    ```python\n",
    "\n",
    "        N = 100\n",
    "        _importance_sampling_jit = jit(partial(_importance_sampling, N=N))\n",
    "        key, (trs, ws, lml) = _importance_sampling_jit(key, model, args, obs, prop, prop_args)\n",
    "\n",
    "    ```\n",
    "    \"\"\"\n",
    "\n",
    "\n",
    "    # Get some proposed choices\n",
    "    key, keys = keysplit(key,1,N)\n",
    "    (prop_ch, prop_ws, _) = vmap(_propose, (0, None, None))(\n",
    "        keys, proposal, proposal_args)\n",
    "    \n",
    "    # Merge observations and proposal choices\n",
    "    constr, _ = vmap(_merge, (0,None))(prop_ch, obs)\n",
    "\n",
    "    # Generate new traces given these new constraints\n",
    "    key, keys = keysplit(key,1,N)\n",
    "    (trs, ws) = vmap(_generate, in_axes=(0,None,None,0))(\n",
    "        keys, model, args, constr)\n",
    "    \n",
    "    # Adjust the importance weights accordingly\n",
    "    ws    = ws - prop_ws\n",
    "    total = logsumexp(ws)\n",
    "    ws    = ws - total          # Log normalize\n",
    "    lml   = total - jnp.log(N)  # Estimate of the (log) marginal likelihood\n",
    "\n",
    "    return (trs, ws, lml)\n",
    "\n"
   ]
  },
  {
   "cell_type": "code",
   "execution_count": 8,
   "metadata": {},
   "outputs": [
    {
     "data": {
      "image/png": "[encoded data removed]"
     },
     "metadata": {},
     "output_type": "display_data"
    }
   ],
   "source": [
    "import matplotlib.pyplot as plt\n",
    "from functools import partial\n",
    "\n",
    "@gen\n",
    "def model():\n",
    "    y = genjax.normal(0.0,1.0) @ \"y\"\n",
    "    x = genjax.normal(y, 1.0)  @ \"x\"\n",
    "    return x\n",
    "\n",
    "@gen\n",
    "def prop(x):\n",
    "    y = genjax.normal(x,2.0) @ \"y\"\n",
    "    return y\n",
    "\n",
    "key = jax.random.PRNGKey(0)\n",
    "\n",
    "args = ()\n",
    "prop_args = (10.,)\n",
    "\n",
    "# obs = genjax.choice_map({'y': jnp.array([1.0])})\n",
    "# obs = genjax.choice_map({'y': 1.0})\n",
    "obs = genjax.choice_map({})\n",
    "\n",
    "(w,tr) = model.importance(key, obs, args)\n",
    "tr.get_choices()\n",
    "\n",
    "\n",
    "args = ()\n",
    "prop_args = (10.,)\n",
    "obs   = genjax.choice_map({\"x\": 3.14})\n",
    "\n",
    "N = 10_000\n",
    "_importance_sampling_jit = jit(partial(_importance_sampling, N=N))\n",
    "\n",
    "(trs, ws, lml) = _importance_sampling_jit(key, model, args, obs, prop, prop_args)\n",
    "\n",
    "plt.hist(trs[\"y\"], bins=100);"
   ]
  },
  {
   "cell_type": "code",
   "execution_count": 235,
   "metadata": {},
   "outputs": [
    {
     "name": "stdout",
     "output_type": "stream",
     "text": [
      "440 ms ± 0 ns per loop (mean ± std. dev. of 1 run, 1 loop each)\n"
     ]
    }
   ],
   "source": [
    "key = keysplit(key)\n",
    "%timeit -n 1 -r 1 _importance_sampling_jit(key, model, model_args, observations, proposal, proposal_args);"
   ]
  },
  {
   "cell_type": "code",
   "execution_count": null,
   "metadata": {},
   "outputs": [],
   "source": []
  }
 ],
 "metadata": {
  "kernelspec": {
   "display_name": "bayes3d",
   "language": "python",
   "name": "python3"
  },
  "language_info": {
   "codemirror_mode": {
    "name": "ipython",
    "version": 3
   },
   "file_extension": ".py",
   "mimetype": "text/x-python",
   "name": "python",
   "nbconvert_exporter": "python",
   "pygments_lexer": "ipython3",
   "version": "3.9.16"
  },
  "orig_nbformat": 4
 },
 "nbformat": 4,
 "nbformat_minor": 2
}
