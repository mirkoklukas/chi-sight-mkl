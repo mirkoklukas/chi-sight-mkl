{
 "cells": [
  {
   "cell_type": "code",
   "execution_count": 2,
   "metadata": {},
   "outputs": [],
   "source": [
    "import bayes3d as b3d\n",
    "import genjax\n",
    "from genjax import gen, choice_map, vector_choice_map\n",
    "import jax\n",
    "from jax import jit, vmap\n",
    "import jax.numpy as jnp\n",
    "import matplotlib.pyplot as plt\n",
    "from matplotlib.collections import LineCollection\n",
    "import numpy as np\n",
    "from genjax._src.core.transforms.incremental import UnknownChange, NoChange, Diff\n",
    "import trimesh\n",
    "from bayes3d._mkl.utils import *\n",
    "from bayes3d._mkl.importance import _importance_sampling\n",
    "from functools import partial\n",
    "\n",
    "key = jax.random.PRNGKey(0)\n",
    "console = genjax.pretty(show_locals=False)"
   ]
  },
  {
   "cell_type": "code",
   "execution_count": 3,
   "metadata": {},
   "outputs": [
    {
     "data": {
      "text/html": [
       "<pre style=\"white-space:pre;overflow-x:auto;line-height:normal;font-family:Menlo,'DejaVu Sans Mono',consolas,'Courier New',monospace\"><span style=\"color: #008080; text-decoration-color: #008080; font-weight: bold\">50</span>\n",
       "</pre>\n"
      ],
      "text/plain": [
       "\u001b[1;36m50\u001b[0m\n"
      ]
     },
     "metadata": {},
     "output_type": "display_data"
    }
   ],
   "source": [
    "from bayes3d._mkl.pose import pack_pose, unpack_pose, apply_pose, lift_pose\n",
    "from bayes3d._mkl.meshes import *\n",
    "from bayes3d._mkl.plotting import *\n",
    "\n",
    "fname = \"./data/test_env_2d.json\"\n",
    "_segs, _boxes, _xs, _hds, _dxs, _dhds = unpack_2d_env_data(fname)\n",
    "_verts  = _segs.reshape(-1,2)\n",
    "_center = np.min(_verts, axis=0) + np.max(_verts, axis=0)/2\n",
    "_T      = len(_xs)\n",
    "_segs   = _segs.reshape(-1,2,2)\n",
    "_boxes  = _boxes.reshape(-1,2,2)\n",
    "_bb     = bounding_box(_segs)\n",
    "_ps     = np.concatenate([_xs, _hds[:,None]], axis=1)\n",
    "\n",
    "_T"
   ]
  },
  {
   "cell_type": "code",
   "execution_count": 4,
   "metadata": {},
   "outputs": [],
   "source": [
    "box_mesh = trimesh.util.concatenate([trimesh_from_2d_segs(box) for box in _boxes.reshape(-1,4,4)])\n",
    "map_mesh = trimesh_from_2d_segs(_segs.reshape(-1,4))\n",
    "table = create_cuboid(20, 20, -0.1)\n",
    "table = move_to_xy(table, *_center)\n",
    "map_mesh.vertices[:,2] -= 0.5\n",
    "box_mesh.vertices[:,2] -= 0.5\n",
    "table.vertices[:,2]    -= 0.5"
   ]
  },
  {
   "cell_type": "code",
   "execution_count": 66,
   "metadata": {},
   "outputs": [
    {
     "name": "stdout",
     "output_type": "stream",
     "text": [
      "Increasing frame buffer size to (width, height, depth) = (64, 32, 1024)\n",
      "['object_0', 'object_1']\n"
     ]
    },
    {
     "name": "stderr",
     "output_type": "stream",
     "text": [
      "[E rasterize_gl.cpp:121] OpenGL version reported as 4.6\n"
     ]
    },
    {
     "data": {
      "image/png": "[encoded data removed]"
     },
     "metadata": {},
     "output_type": "display_data"
    }
   ],
   "source": [
    "w = 50\n",
    "h = 1\n",
    "\n",
    "near = 0.01\n",
    "far  = 10.0\n",
    "\n",
    "fx = 10\n",
    "fy = 10\n",
    "\n",
    "cx = w/2 - 0.5\n",
    "cy = h/2 - 0.5\n",
    "\n",
    "intrinsics = b3d.Intrinsics(\n",
    "    height = h,\n",
    "    width  = w,\n",
    "    fx=fx, fy=fy,\n",
    "    cx=cx, cy=cy,\n",
    "    near=near, far=far\n",
    ")\n",
    "b3d.setup_renderer(intrinsics)\n",
    "b3d.RENDERER.add_mesh(trimesh.util.concatenate([map_mesh, table]), center_mesh=False)\n",
    "b3d.RENDERER.add_mesh(box_mesh, center_mesh=False)\n",
    "\n",
    "def render(p, inds=[0,1]):\n",
    "    p_ = b3d.t3d.inverse_pose(p)\n",
    "    return b3d.RENDERER.render(jnp.tile(p_, (len(inds),1,1)), jnp.array(inds))\n",
    "\n",
    "print(b3d.RENDERER.mesh_names)\n",
    "\n",
    "t = 40\n",
    "p = _ps[t]\n",
    "X = render(lift_pose(p[:2], p[2]), inds=[0,1])\n",
    "xs = X[0][:,[0,2]]\n",
    "xs = apply_2dpose(p, xs)\n",
    "\n",
    "# -----------------\n",
    "plt.figure(figsize=(3,3))\n",
    "plt.gca().set_aspect(1)\n",
    "plot_segs(plt.gca(),_segs, c=\"k\", zorder=-1)\n",
    "plot_segs(plt.gca(),_boxes, c=\"gray\", zorder=-1)\n",
    "plt.scatter(*_ps[t][:2], marker=\"o\")\n",
    "plt.scatter(*xs.T,c=X[0,:,3], vmin=1, vmax=2, s=5)"
   ]
  },
  {
   "cell_type": "code",
   "execution_count": 67,
   "metadata": {},
   "outputs": [],
   "source": [
    "@genjax.gen\n",
    "def anchored_pose_prior(p, sig_x=0.5, sig_hd=10):\n",
    "    \n",
    "    sig_hd = sig_hd/180*jnp.pi\n",
    "\n",
    "    x  = genjax.tfp_normal(p[:2], sig_x*jnp.ones(2)) @ \"x\"\n",
    "    hd = genjax.tfp_normal(p[2], sig_hd)             @ \"hd\"\n",
    "    \n",
    "    return pack_2dpose(x, adjust_angle(hd))"
   ]
  },
  {
   "cell_type": "code",
   "execution_count": 68,
   "metadata": {},
   "outputs": [
    {
     "data": {
      "text/html": [
       "<pre style=\"white-space:pre;overflow-x:auto;line-height:normal;font-family:Menlo,'DejaVu Sans Mono',consolas,'Courier New',monospace\"><span style=\"color: #800080; text-decoration-color: #800080; font-weight: bold\">Array</span><span style=\"font-weight: bold\">([</span><span style=\"color: #008080; text-decoration-color: #008080; font-weight: bold\">2806430990</span>, <span style=\"color: #008080; text-decoration-color: #008080; font-weight: bold\">3511999563</span><span style=\"font-weight: bold\">]</span>, <span style=\"color: #808000; text-decoration-color: #808000\">dtype</span>=<span style=\"color: #800080; text-decoration-color: #800080\">uint32</span><span style=\"font-weight: bold\">)</span>\n",
       "</pre>\n"
      ],
      "text/plain": [
       "\u001b[1;35mArray\u001b[0m\u001b[1m(\u001b[0m\u001b[1m[\u001b[0m\u001b[1;36m2806430990\u001b[0m, \u001b[1;36m3511999563\u001b[0m\u001b[1m]\u001b[0m, \u001b[33mdtype\u001b[0m=\u001b[35muint32\u001b[0m\u001b[1m)\u001b[0m\n"
      ]
     },
     "metadata": {},
     "output_type": "display_data"
    }
   ],
   "source": [
    "keysplit(key)"
   ]
  },
  {
   "cell_type": "code",
   "execution_count": 69,
   "metadata": {},
   "outputs": [
    {
     "name": "stdout",
     "output_type": "stream",
     "text": [
      "(101, 3) [ 5.2565    15.3676195  2.2455373] [ 5.2565     15.36761905  2.24553727]\n",
      "[[ 5.2565    15.3676195  2.2455373]\n",
      " [ 5.5471582 15.04617    2.0355012]]\n"
     ]
    },
    {
     "data": {
      "image/png": "[encoded data removed]"
     },
     "metadata": {},
     "output_type": "display_data"
    }
   ],
   "source": [
    "t = 40\n",
    "p0 = _ps[t]\n",
    "key, keys = keysplit(key, 1, 100)\n",
    "qs = vmap(anchored_pose_prior(p0, sig_x=0.5, sig_hd=15))(keys)\n",
    "qs = jnp.concatenate([p0[None], qs], axis=0)\n",
    "\n",
    "print(qs.shape, qs[0], p0)\n",
    "print(qs[:2])\n",
    "\n",
    "# -----------------\n",
    "plt.figure(figsize=(3,3))\n",
    "plt.gca().set_aspect(1)\n",
    "plot_segs(plt.gca(),_segs, c=\"k\", zorder=-1)\n",
    "plot_segs(plt.gca(),_boxes, c=\"gray\", zorder=-1)\n",
    "plt.scatter(*qs[:,:2].T, marker=\".\", s=2, c=\"C0\")\n",
    "plt.scatter(*p0[:2], marker=\".\", s=10, c=\"r\")"
   ]
  },
  {
   "cell_type": "code",
   "execution_count": 62,
   "metadata": {},
   "outputs": [],
   "source": [
    "Xs = []\n",
    "Ys = []\n",
    "for q in qs:\n",
    "    Xs.append(render(lift_pose(q[:2], q[2]), inds=[0,1]))\n",
    "    Ys.append(render(lift_pose(q[:2], q[2]), inds=[0]))\n",
    "\n",
    "Xs = jnp.stack(Xs)    \n",
    "Ys = jnp.stack(Ys)    \n"
   ]
  },
  {
   "cell_type": "code",
   "execution_count": 65,
   "metadata": {},
   "outputs": [],
   "source": [
    "suff = f\"{Xs[0].shape[0]}x{Xs[0].shape[1]}\"\n",
    "jnp.save(f\"./data/test_Xs_{suff}\", Xs)\n",
    "jnp.save(f\"./data/test_Ys_{suff}\", Ys)\n",
    "jnp.save(f\"./data/test_ps_{suff}\", qs)"
   ]
  },
  {
   "cell_type": "markdown",
   "metadata": {},
   "source": [
    "## 3D"
   ]
  },
  {
   "cell_type": "code",
   "execution_count": 104,
   "metadata": {},
   "outputs": [
    {
     "name": "stdout",
     "output_type": "stream",
     "text": [
      "Increasing frame buffer size to (width, height, depth) = (128, 64, 1024)\n",
      "['object_0', 'object_1']\n"
     ]
    },
    {
     "name": "stderr",
     "output_type": "stream",
     "text": [
      "[E rasterize_gl.cpp:121] OpenGL version reported as 4.6\n"
     ]
    },
    {
     "data": {
      "image/png": "[encoded data removed]"
     },
     "metadata": {},
     "output_type": "display_data"
    }
   ],
   "source": [
    "w = 100\n",
    "h = 50\n",
    "\n",
    "near = 0.01\n",
    "far  = 10.0\n",
    "\n",
    "fx = 30\n",
    "fy = 30\n",
    "\n",
    "cx = w/2 - 0.5\n",
    "cy = h/2 - 0.5\n",
    "\n",
    "intrinsics = b3d.Intrinsics(\n",
    "    height = h,\n",
    "    width  = w,\n",
    "    fx=fx, fy=fy,\n",
    "    cx=cx, cy=cy,\n",
    "    near=near, far=far\n",
    ")\n",
    "b3d.setup_renderer(intrinsics)\n",
    "b3d.RENDERER.add_mesh(trimesh.util.concatenate([map_mesh, table]), center_mesh=False)\n",
    "b3d.RENDERER.add_mesh(box_mesh, center_mesh=False)\n",
    "\n",
    "def render(p, inds=[0,1]):\n",
    "    p_ = b3d.t3d.inverse_pose(p)\n",
    "    return b3d.RENDERER.render(jnp.tile(p_, (len(inds),1,1)), jnp.array(inds))\n",
    "\n",
    "print(b3d.RENDERER.mesh_names)\n",
    "\n",
    "t = 40\n",
    "p = _ps[t]\n",
    "X = render(lift_pose(p[:2], p[2]), inds=[0,1])\n",
    "xs = X[0][:,[0,2]]\n",
    "xs = apply_2dpose(p, xs)\n",
    "\n",
    "\n",
    "plt.imshow(X[:,:,2], vmax=6.)"
   ]
  },
  {
   "cell_type": "code",
   "execution_count": 105,
   "metadata": {},
   "outputs": [
    {
     "data": {
      "image/png": "[encoded data removed]"
     },
     "metadata": {},
     "output_type": "display_data"
    }
   ],
   "source": [
    "xs = X[:h//2,:,[0,2]]\n",
    "xs = apply_2dpose(p, xs)\n",
    "\n",
    "# -----------------\n",
    "plt.figure(figsize=(3,3))\n",
    "plt.gca().set_aspect(1)\n",
    "plot_segs(plt.gca(),_segs, c=\"k\", zorder=-1)\n",
    "plot_segs(plt.gca(),_boxes, c=\"gray\", zorder=-1)\n",
    "plt.scatter(*xs.T, marker=\".\", s=10, c=\"r\")"
   ]
  },
  {
   "cell_type": "code",
   "execution_count": 106,
   "metadata": {},
   "outputs": [],
   "source": [
    "Xs = []\n",
    "Ys = []\n",
    "for q in qs:\n",
    "    Xs.append(render(lift_pose(q[:2], q[2]), inds=[0,1]))\n",
    "    Ys.append(render(lift_pose(q[:2], q[2]), inds=[0]))\n",
    "\n",
    "Xs = jnp.stack(Xs)    \n",
    "Ys = jnp.stack(Ys)    \n",
    "\n",
    "suff = f\"{Xs[0].shape[0]}x{Xs[0].shape[1]}\"\n",
    "jnp.save(f\"./data/test_Xs_{suff}\", Xs)\n",
    "jnp.save(f\"./data/test_Ys_{suff}\", Ys)\n",
    "jnp.save(f\"./data/test_ps_{suff}\", qs)"
   ]
  },
  {
   "cell_type": "code",
   "execution_count": null,
   "metadata": {},
   "outputs": [],
   "source": []
  }
 ],
 "metadata": {
  "kernelspec": {
   "display_name": "bayes3d",
   "language": "python",
   "name": "python3"
  },
  "language_info": {
   "codemirror_mode": {
    "name": "ipython",
    "version": 3
   },
   "file_extension": ".py",
   "mimetype": "text/x-python",
   "name": "python",
   "nbconvert_exporter": "python",
   "pygments_lexer": "ipython3",
   "version": "3.9.16"
  },
  "orig_nbformat": 4
 },
 "nbformat": 4,
 "nbformat_minor": 2
}
